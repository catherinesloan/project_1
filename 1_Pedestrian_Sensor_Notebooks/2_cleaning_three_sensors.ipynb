{
 "cells": [
  {
   "cell_type": "code",
   "execution_count": 23,
   "metadata": {},
   "outputs": [],
   "source": [
    "import pandas as pd\n",
    "import matplotlib.pyplot as plt\n",
    "import numpy as np\n",
    "import json"
   ]
  },
  {
   "cell_type": "code",
   "execution_count": 25,
   "metadata": {},
   "outputs": [
    {
     "data": {
      "text/html": [
       "<div>\n",
       "<style scoped>\n",
       "    .dataframe tbody tr th:only-of-type {\n",
       "        vertical-align: middle;\n",
       "    }\n",
       "\n",
       "    .dataframe tbody tr th {\n",
       "        vertical-align: top;\n",
       "    }\n",
       "\n",
       "    .dataframe thead th {\n",
       "        text-align: right;\n",
       "    }\n",
       "</style>\n",
       "<table border=\"1\" class=\"dataframe\">\n",
       "  <thead>\n",
       "    <tr style=\"text-align: right;\">\n",
       "      <th></th>\n",
       "      <th>Date</th>\n",
       "      <th>Hour</th>\n",
       "      <th>Bourke Street Mall (North)</th>\n",
       "      <th>Flinders St-Spark La</th>\n",
       "      <th>QV Market-Elizabeth St (West)</th>\n",
       "    </tr>\n",
       "  </thead>\n",
       "  <tbody>\n",
       "    <tr>\n",
       "      <th>0</th>\n",
       "      <td>1/01/2019</td>\n",
       "      <td>0</td>\n",
       "      <td>918</td>\n",
       "      <td>802</td>\n",
       "      <td>637</td>\n",
       "    </tr>\n",
       "    <tr>\n",
       "      <th>1</th>\n",
       "      <td>1/01/2019</td>\n",
       "      <td>1</td>\n",
       "      <td>995</td>\n",
       "      <td>374</td>\n",
       "      <td>719</td>\n",
       "    </tr>\n",
       "    <tr>\n",
       "      <th>2</th>\n",
       "      <td>1/01/2019</td>\n",
       "      <td>2</td>\n",
       "      <td>416</td>\n",
       "      <td>98</td>\n",
       "      <td>370</td>\n",
       "    </tr>\n",
       "    <tr>\n",
       "      <th>3</th>\n",
       "      <td>1/01/2019</td>\n",
       "      <td>3</td>\n",
       "      <td>382</td>\n",
       "      <td>59</td>\n",
       "      <td>256</td>\n",
       "    </tr>\n",
       "    <tr>\n",
       "      <th>4</th>\n",
       "      <td>1/01/2019</td>\n",
       "      <td>4</td>\n",
       "      <td>165</td>\n",
       "      <td>10</td>\n",
       "      <td>197</td>\n",
       "    </tr>\n",
       "  </tbody>\n",
       "</table>\n",
       "</div>"
      ],
      "text/plain": [
       "        Date  Hour  Bourke Street Mall (North)  Flinders St-Spark La  \\\n",
       "0  1/01/2019     0                         918                   802   \n",
       "1  1/01/2019     1                         995                   374   \n",
       "2  1/01/2019     2                         416                    98   \n",
       "3  1/01/2019     3                         382                    59   \n",
       "4  1/01/2019     4                         165                    10   \n",
       "\n",
       "   QV Market-Elizabeth St (West)  \n",
       "0                            637  \n",
       "1                            719  \n",
       "2                            370  \n",
       "3                            256  \n",
       "4                            197  "
      ]
     },
     "execution_count": 25,
     "metadata": {},
     "output_type": "execute_result"
    }
   ],
   "source": [
    "# pulling the data from the csv file I created with 3 sensors\n",
    "sensors_df = pd.read_csv(\"../Output/1_pedestrian_csv/sensors2019_chosen3.csv\")\n",
    "sensors_df.head()"
   ]
  },
  {
   "cell_type": "code",
   "execution_count": 26,
   "metadata": {},
   "outputs": [
    {
     "name": "stdout",
     "output_type": "stream",
     "text": [
      "-1\n",
      "-1\n",
      "-1\n"
     ]
    }
   ],
   "source": [
    "# Do all 3 sensors contain counts of -1?\n",
    "print(sensors_df['Bourke Street Mall (North)'].min())\n",
    "print(sensors_df['Flinders St-Spark La'].min())\n",
    "print(sensors_df['QV Market-Elizabeth St (West)'].min())"
   ]
  },
  {
   "cell_type": "code",
   "execution_count": 33,
   "metadata": {},
   "outputs": [
    {
     "data": {
      "text/plain": [
       "Date                             8760\n",
       "Hour                             8760\n",
       "Bourke Street Mall (North)       8760\n",
       "Flinders St-Spark La             8760\n",
       "QV Market-Elizabeth St (West)    8760\n",
       "dtype: int64"
      ]
     },
     "execution_count": 33,
     "metadata": {},
     "output_type": "execute_result"
    }
   ],
   "source": [
    "sensors_df.count()"
   ]
  },
  {
   "cell_type": "code",
   "execution_count": 34,
   "metadata": {},
   "outputs": [
    {
     "data": {
      "text/plain": [
       "Date                             object\n",
       "Hour                              int64\n",
       "Bourke Street Mall (North)        int64\n",
       "Flinders St-Spark La              int64\n",
       "QV Market-Elizabeth St (West)     int64\n",
       "dtype: object"
      ]
     },
     "execution_count": 34,
     "metadata": {},
     "output_type": "execute_result"
    }
   ],
   "source": [
    "sensors_df.dtypes"
   ]
  },
  {
   "cell_type": "code",
   "execution_count": 35,
   "metadata": {},
   "outputs": [
    {
     "data": {
      "text/plain": [
       "Date                             8568\n",
       "Hour                             8568\n",
       "Bourke Street Mall (North)       8568\n",
       "Flinders St-Spark La             8568\n",
       "QV Market-Elizabeth St (West)    8568\n",
       "dtype: int64"
      ]
     },
     "execution_count": 35,
     "metadata": {},
     "output_type": "execute_result"
    }
   ],
   "source": [
    "# Removing rows which contain counts of -1\n",
    "clean_df = sensors_df.loc[(sensors_df[\"Bourke Street Mall (North)\"] != -1) & (sensors_df[\"Flinders St-Spark La\"] != -1) & \n",
    "                         (sensors_df[\"QV Market-Elizabeth St (West)\"] != -1),:]\n",
    "clean_df.count()"
   ]
  },
  {
   "cell_type": "code",
   "execution_count": 36,
   "metadata": {},
   "outputs": [
    {
     "name": "stdout",
     "output_type": "stream",
     "text": [
      "4896\n",
      "2\n",
      "3708\n",
      "1\n",
      "2957\n",
      "13\n"
     ]
    }
   ],
   "source": [
    "# Checking min values for each location\n",
    "print(clean_df['Bourke Street Mall (North)'].max())\n",
    "print(clean_df['Bourke Street Mall (North)'].min())\n",
    "print(clean_df['Flinders St-Spark La'].max())\n",
    "print(clean_df['Flinders St-Spark La'].min())\n",
    "print(clean_df['QV Market-Elizabeth St (West)'].max())\n",
    "print(clean_df['QV Market-Elizabeth St (West)'].min())"
   ]
  },
  {
   "cell_type": "code",
   "execution_count": 37,
   "metadata": {},
   "outputs": [],
   "source": [
    "clean_df.to_csv(\"../Output/1_pedestrian_csv/sensors2019_chosen3_cleaned.csv\", encoding=\"utf-8\", index=False, header=True)"
   ]
  },
  {
   "cell_type": "code",
   "execution_count": 38,
   "metadata": {},
   "outputs": [
    {
     "data": {
      "text/html": [
       "<div>\n",
       "<style scoped>\n",
       "    .dataframe tbody tr th:only-of-type {\n",
       "        vertical-align: middle;\n",
       "    }\n",
       "\n",
       "    .dataframe tbody tr th {\n",
       "        vertical-align: top;\n",
       "    }\n",
       "\n",
       "    .dataframe thead th {\n",
       "        text-align: right;\n",
       "    }\n",
       "</style>\n",
       "<table border=\"1\" class=\"dataframe\">\n",
       "  <thead>\n",
       "    <tr style=\"text-align: right;\">\n",
       "      <th></th>\n",
       "      <th>Bourke Street Mall (North)</th>\n",
       "      <th>Flinders St-Spark La</th>\n",
       "      <th>QV Market-Elizabeth St (West)</th>\n",
       "    </tr>\n",
       "    <tr>\n",
       "      <th>Date</th>\n",
       "      <th></th>\n",
       "      <th></th>\n",
       "      <th></th>\n",
       "    </tr>\n",
       "  </thead>\n",
       "  <tbody>\n",
       "    <tr>\n",
       "      <th>1/01/2019</th>\n",
       "      <td>1119.375000</td>\n",
       "      <td>117.791667</td>\n",
       "      <td>363.500000</td>\n",
       "    </tr>\n",
       "    <tr>\n",
       "      <th>1/02/2019</th>\n",
       "      <td>1504.125000</td>\n",
       "      <td>185.708333</td>\n",
       "      <td>586.250000</td>\n",
       "    </tr>\n",
       "    <tr>\n",
       "      <th>1/03/2019</th>\n",
       "      <td>1458.750000</td>\n",
       "      <td>154.833333</td>\n",
       "      <td>551.000000</td>\n",
       "    </tr>\n",
       "    <tr>\n",
       "      <th>1/04/2019</th>\n",
       "      <td>1283.727273</td>\n",
       "      <td>138.818182</td>\n",
       "      <td>512.181818</td>\n",
       "    </tr>\n",
       "    <tr>\n",
       "      <th>1/05/2019</th>\n",
       "      <td>1384.791667</td>\n",
       "      <td>180.416667</td>\n",
       "      <td>588.875000</td>\n",
       "    </tr>\n",
       "  </tbody>\n",
       "</table>\n",
       "</div>"
      ],
      "text/plain": [
       "           Bourke Street Mall (North)  Flinders St-Spark La  \\\n",
       "Date                                                          \n",
       "1/01/2019                 1119.375000            117.791667   \n",
       "1/02/2019                 1504.125000            185.708333   \n",
       "1/03/2019                 1458.750000            154.833333   \n",
       "1/04/2019                 1283.727273            138.818182   \n",
       "1/05/2019                 1384.791667            180.416667   \n",
       "\n",
       "           QV Market-Elizabeth St (West)  \n",
       "Date                                      \n",
       "1/01/2019                     363.500000  \n",
       "1/02/2019                     586.250000  \n",
       "1/03/2019                     551.000000  \n",
       "1/04/2019                     512.181818  \n",
       "1/05/2019                     588.875000  "
      ]
     },
     "execution_count": 38,
     "metadata": {},
     "output_type": "execute_result"
    }
   ],
   "source": [
    "# grouping by the date and applying aggregates\n",
    "average_daily = clean_df.groupby([\"Date\"])\n",
    "average_daily = average_daily[['Bourke Street Mall (North)','Flinders St-Spark La', 'QV Market-Elizabeth St (West)']].mean()\n",
    "average_daily.head()"
   ]
  },
  {
   "cell_type": "code",
   "execution_count": 39,
   "metadata": {},
   "outputs": [],
   "source": [
    "average_daily.to_csv(\"../Output/1_pedestrian_csv/sensors2019_chosen3_dailyaverage.csv\", encoding=\"utf-8\", index=False, header=True)"
   ]
  },
  {
   "cell_type": "code",
   "execution_count": 40,
   "metadata": {},
   "outputs": [
    {
     "name": "stdout",
     "output_type": "stream",
     "text": [
      "Index(['Bourke Street Mall (North)', 'Flinders St-Spark La',\n",
      "       'QV Market-Elizabeth St (West)'],\n",
      "      dtype='object')\n"
     ]
    }
   ],
   "source": [
    "columns = average_daily.columns\n",
    "print(columns)"
   ]
  },
  {
   "cell_type": "code",
   "execution_count": 41,
   "metadata": {},
   "outputs": [
    {
     "data": {
      "text/plain": [
       "1356.2864075797243"
      ]
     },
     "execution_count": 41,
     "metadata": {},
     "output_type": "execute_result"
    }
   ],
   "source": [
    "average_BSM = average_daily[\"Bourke Street Mall (North)\"].mean()\n",
    "average_BSM"
   ]
  },
  {
   "cell_type": "code",
   "execution_count": 42,
   "metadata": {},
   "outputs": [
    {
     "data": {
      "text/plain": [
       "146.99567358819965"
      ]
     },
     "execution_count": 42,
     "metadata": {},
     "output_type": "execute_result"
    }
   ],
   "source": [
    "average_flind = average_daily[\"Flinders St-Spark La\"].mean()\n",
    "average_flind"
   ]
  },
  {
   "cell_type": "code",
   "execution_count": 43,
   "metadata": {},
   "outputs": [
    {
     "data": {
      "text/plain": [
       "606.9443503226918"
      ]
     },
     "execution_count": 43,
     "metadata": {},
     "output_type": "execute_result"
    }
   ],
   "source": [
    "average_QVM = average_daily[\"QV Market-Elizabeth St (West)\"].mean()\n",
    "average_QVM"
   ]
  },
  {
   "cell_type": "code",
   "execution_count": 44,
   "metadata": {},
   "outputs": [
    {
     "name": "stdout",
     "output_type": "stream",
     "text": [
      "132.0\n",
      "2235.375\n",
      "17.5\n",
      "781.375\n",
      "99.5\n",
      "1087.7916666666667\n"
     ]
    }
   ],
   "source": [
    "print(average_daily['Bourke Street Mall (North)'].min())\n",
    "print(average_daily['Bourke Street Mall (North)'].max())\n",
    "print(average_daily['Flinders St-Spark La'].min())\n",
    "print(average_daily['Flinders St-Spark La'].max())\n",
    "print(average_daily['QV Market-Elizabeth St (West)'].min())\n",
    "print(average_daily['QV Market-Elizabeth St (West)'].max())"
   ]
  },
  {
   "cell_type": "code",
   "execution_count": 45,
   "metadata": {},
   "outputs": [
    {
     "data": {
      "text/html": [
       "<div>\n",
       "<style scoped>\n",
       "    .dataframe tbody tr th:only-of-type {\n",
       "        vertical-align: middle;\n",
       "    }\n",
       "\n",
       "    .dataframe tbody tr th {\n",
       "        vertical-align: top;\n",
       "    }\n",
       "\n",
       "    .dataframe thead th {\n",
       "        text-align: right;\n",
       "    }\n",
       "</style>\n",
       "<table border=\"1\" class=\"dataframe\">\n",
       "  <thead>\n",
       "    <tr style=\"text-align: right;\">\n",
       "      <th>Date</th>\n",
       "      <th>1/01/2019</th>\n",
       "      <th>1/02/2019</th>\n",
       "      <th>1/03/2019</th>\n",
       "      <th>1/04/2019</th>\n",
       "      <th>1/05/2019</th>\n",
       "      <th>1/06/2019</th>\n",
       "      <th>1/07/2019</th>\n",
       "      <th>1/08/2019</th>\n",
       "      <th>1/09/2019</th>\n",
       "      <th>1/10/2019</th>\n",
       "      <th>...</th>\n",
       "      <th>9/03/2019</th>\n",
       "      <th>9/04/2019</th>\n",
       "      <th>9/05/2019</th>\n",
       "      <th>9/06/2019</th>\n",
       "      <th>9/07/2019</th>\n",
       "      <th>9/08/2019</th>\n",
       "      <th>9/09/2019</th>\n",
       "      <th>9/10/2019</th>\n",
       "      <th>9/11/2019</th>\n",
       "      <th>9/12/2019</th>\n",
       "    </tr>\n",
       "  </thead>\n",
       "  <tbody>\n",
       "    <tr>\n",
       "      <th>Bourke Street Mall (North)</th>\n",
       "      <td>1119.375000</td>\n",
       "      <td>1504.125000</td>\n",
       "      <td>1458.750000</td>\n",
       "      <td>1283.727273</td>\n",
       "      <td>1384.791667</td>\n",
       "      <td>1442.583333</td>\n",
       "      <td>1296.041667</td>\n",
       "      <td>1368.375000</td>\n",
       "      <td>1104.958333</td>\n",
       "      <td>1553.260870</td>\n",
       "      <td>...</td>\n",
       "      <td>1546.083333</td>\n",
       "      <td>1355.375000</td>\n",
       "      <td>1364.666667</td>\n",
       "      <td>1340.041667</td>\n",
       "      <td>1152.916667</td>\n",
       "      <td>1438.166667</td>\n",
       "      <td>1133.666667</td>\n",
       "      <td>1304.083333</td>\n",
       "      <td>1299.125000</td>\n",
       "      <td>1303.541667</td>\n",
       "    </tr>\n",
       "    <tr>\n",
       "      <th>Flinders St-Spark La</th>\n",
       "      <td>117.791667</td>\n",
       "      <td>185.708333</td>\n",
       "      <td>154.833333</td>\n",
       "      <td>138.818182</td>\n",
       "      <td>180.416667</td>\n",
       "      <td>101.375000</td>\n",
       "      <td>147.750000</td>\n",
       "      <td>143.000000</td>\n",
       "      <td>77.041667</td>\n",
       "      <td>162.478261</td>\n",
       "      <td>...</td>\n",
       "      <td>134.166667</td>\n",
       "      <td>181.666667</td>\n",
       "      <td>148.958333</td>\n",
       "      <td>111.083333</td>\n",
       "      <td>184.291667</td>\n",
       "      <td>138.791667</td>\n",
       "      <td>133.625000</td>\n",
       "      <td>146.083333</td>\n",
       "      <td>105.333333</td>\n",
       "      <td>135.250000</td>\n",
       "    </tr>\n",
       "    <tr>\n",
       "      <th>QV Market-Elizabeth St (West)</th>\n",
       "      <td>363.500000</td>\n",
       "      <td>586.250000</td>\n",
       "      <td>551.000000</td>\n",
       "      <td>512.181818</td>\n",
       "      <td>588.875000</td>\n",
       "      <td>683.333333</td>\n",
       "      <td>388.500000</td>\n",
       "      <td>632.958333</td>\n",
       "      <td>582.208333</td>\n",
       "      <td>655.913043</td>\n",
       "      <td>...</td>\n",
       "      <td>769.000000</td>\n",
       "      <td>625.916667</td>\n",
       "      <td>581.208333</td>\n",
       "      <td>734.708333</td>\n",
       "      <td>703.958333</td>\n",
       "      <td>577.958333</td>\n",
       "      <td>383.375000</td>\n",
       "      <td>583.583333</td>\n",
       "      <td>633.041667</td>\n",
       "      <td>367.500000</td>\n",
       "    </tr>\n",
       "  </tbody>\n",
       "</table>\n",
       "<p>3 rows × 363 columns</p>\n",
       "</div>"
      ],
      "text/plain": [
       "Date                             1/01/2019    1/02/2019    1/03/2019  \\\n",
       "Bourke Street Mall (North)     1119.375000  1504.125000  1458.750000   \n",
       "Flinders St-Spark La            117.791667   185.708333   154.833333   \n",
       "QV Market-Elizabeth St (West)   363.500000   586.250000   551.000000   \n",
       "\n",
       "Date                             1/04/2019    1/05/2019    1/06/2019  \\\n",
       "Bourke Street Mall (North)     1283.727273  1384.791667  1442.583333   \n",
       "Flinders St-Spark La            138.818182   180.416667   101.375000   \n",
       "QV Market-Elizabeth St (West)   512.181818   588.875000   683.333333   \n",
       "\n",
       "Date                             1/07/2019    1/08/2019    1/09/2019  \\\n",
       "Bourke Street Mall (North)     1296.041667  1368.375000  1104.958333   \n",
       "Flinders St-Spark La            147.750000   143.000000    77.041667   \n",
       "QV Market-Elizabeth St (West)   388.500000   632.958333   582.208333   \n",
       "\n",
       "Date                             1/10/2019  ...    9/03/2019    9/04/2019  \\\n",
       "Bourke Street Mall (North)     1553.260870  ...  1546.083333  1355.375000   \n",
       "Flinders St-Spark La            162.478261  ...   134.166667   181.666667   \n",
       "QV Market-Elizabeth St (West)   655.913043  ...   769.000000   625.916667   \n",
       "\n",
       "Date                             9/05/2019    9/06/2019    9/07/2019  \\\n",
       "Bourke Street Mall (North)     1364.666667  1340.041667  1152.916667   \n",
       "Flinders St-Spark La            148.958333   111.083333   184.291667   \n",
       "QV Market-Elizabeth St (West)   581.208333   734.708333   703.958333   \n",
       "\n",
       "Date                             9/08/2019    9/09/2019    9/10/2019  \\\n",
       "Bourke Street Mall (North)     1438.166667  1133.666667  1304.083333   \n",
       "Flinders St-Spark La            138.791667   133.625000   146.083333   \n",
       "QV Market-Elizabeth St (West)   577.958333   383.375000   583.583333   \n",
       "\n",
       "Date                             9/11/2019    9/12/2019  \n",
       "Bourke Street Mall (North)     1299.125000  1303.541667  \n",
       "Flinders St-Spark La            105.333333   135.250000  \n",
       "QV Market-Elizabeth St (West)   633.041667   367.500000  \n",
       "\n",
       "[3 rows x 363 columns]"
      ]
     },
     "execution_count": 45,
     "metadata": {},
     "output_type": "execute_result"
    }
   ],
   "source": [
    "# Transpose the data ready to merge to the Zomato data\n",
    "average_transposed = average_daily.T\n",
    "average_transposed"
   ]
  },
  {
   "cell_type": "code",
   "execution_count": 46,
   "metadata": {},
   "outputs": [],
   "source": [
    "average_transposed.to_csv(\"../Output/1_pedestrian_csv/sensors2019_chosen3_dailyaverage_transposed.csv\", encoding=\"utf-8\", index=False, header=True)"
   ]
  },
  {
   "cell_type": "code",
   "execution_count": 47,
   "metadata": {},
   "outputs": [
    {
     "data": {
      "text/html": [
       "<div>\n",
       "<style scoped>\n",
       "    .dataframe tbody tr th:only-of-type {\n",
       "        vertical-align: middle;\n",
       "    }\n",
       "\n",
       "    .dataframe tbody tr th {\n",
       "        vertical-align: top;\n",
       "    }\n",
       "\n",
       "    .dataframe thead th {\n",
       "        text-align: right;\n",
       "    }\n",
       "</style>\n",
       "<table border=\"1\" class=\"dataframe\">\n",
       "  <thead>\n",
       "    <tr style=\"text-align: right;\">\n",
       "      <th>Date</th>\n",
       "      <th>1/01/2019</th>\n",
       "      <th>1/02/2019</th>\n",
       "      <th>1/03/2019</th>\n",
       "      <th>1/04/2019</th>\n",
       "      <th>1/05/2019</th>\n",
       "      <th>1/06/2019</th>\n",
       "      <th>1/07/2019</th>\n",
       "      <th>1/08/2019</th>\n",
       "      <th>1/09/2019</th>\n",
       "      <th>1/10/2019</th>\n",
       "      <th>...</th>\n",
       "      <th>9/03/2019</th>\n",
       "      <th>9/04/2019</th>\n",
       "      <th>9/05/2019</th>\n",
       "      <th>9/06/2019</th>\n",
       "      <th>9/07/2019</th>\n",
       "      <th>9/08/2019</th>\n",
       "      <th>9/09/2019</th>\n",
       "      <th>9/10/2019</th>\n",
       "      <th>9/11/2019</th>\n",
       "      <th>9/12/2019</th>\n",
       "    </tr>\n",
       "  </thead>\n",
       "  <tbody>\n",
       "    <tr>\n",
       "      <th>count</th>\n",
       "      <td>3.000000</td>\n",
       "      <td>3.000000</td>\n",
       "      <td>3.000000</td>\n",
       "      <td>3.000000</td>\n",
       "      <td>3.000000</td>\n",
       "      <td>3.000000</td>\n",
       "      <td>3.000000</td>\n",
       "      <td>3.000000</td>\n",
       "      <td>3.000000</td>\n",
       "      <td>3.000000</td>\n",
       "      <td>...</td>\n",
       "      <td>3.000000</td>\n",
       "      <td>3.000000</td>\n",
       "      <td>3.000000</td>\n",
       "      <td>3.000000</td>\n",
       "      <td>3.000000</td>\n",
       "      <td>3.000000</td>\n",
       "      <td>3.000000</td>\n",
       "      <td>3.000000</td>\n",
       "      <td>3.000000</td>\n",
       "      <td>3.000000</td>\n",
       "    </tr>\n",
       "    <tr>\n",
       "      <th>mean</th>\n",
       "      <td>533.555556</td>\n",
       "      <td>758.694444</td>\n",
       "      <td>721.527778</td>\n",
       "      <td>644.909091</td>\n",
       "      <td>718.027778</td>\n",
       "      <td>742.430556</td>\n",
       "      <td>610.763889</td>\n",
       "      <td>714.777778</td>\n",
       "      <td>588.069444</td>\n",
       "      <td>790.550725</td>\n",
       "      <td>...</td>\n",
       "      <td>816.416667</td>\n",
       "      <td>720.986111</td>\n",
       "      <td>698.277778</td>\n",
       "      <td>728.611111</td>\n",
       "      <td>680.388889</td>\n",
       "      <td>718.305556</td>\n",
       "      <td>550.222222</td>\n",
       "      <td>677.916667</td>\n",
       "      <td>679.166667</td>\n",
       "      <td>602.097222</td>\n",
       "    </tr>\n",
       "    <tr>\n",
       "      <th>std</th>\n",
       "      <td>521.997569</td>\n",
       "      <td>675.913043</td>\n",
       "      <td>668.475475</td>\n",
       "      <td>583.880641</td>\n",
       "      <td>612.486829</td>\n",
       "      <td>672.554317</td>\n",
       "      <td>605.552942</td>\n",
       "      <td>616.771261</td>\n",
       "      <td>513.983397</td>\n",
       "      <td>705.098961</td>\n",
       "      <td>...</td>\n",
       "      <td>707.151627</td>\n",
       "      <td>592.601436</td>\n",
       "      <td>616.251271</td>\n",
       "      <td>614.501854</td>\n",
       "      <td>484.742444</td>\n",
       "      <td>660.959042</td>\n",
       "      <td>520.479904</td>\n",
       "      <td>584.735054</td>\n",
       "      <td>598.230953</td>\n",
       "      <td>618.468469</td>\n",
       "    </tr>\n",
       "    <tr>\n",
       "      <th>min</th>\n",
       "      <td>117.791667</td>\n",
       "      <td>185.708333</td>\n",
       "      <td>154.833333</td>\n",
       "      <td>138.818182</td>\n",
       "      <td>180.416667</td>\n",
       "      <td>101.375000</td>\n",
       "      <td>147.750000</td>\n",
       "      <td>143.000000</td>\n",
       "      <td>77.041667</td>\n",
       "      <td>162.478261</td>\n",
       "      <td>...</td>\n",
       "      <td>134.166667</td>\n",
       "      <td>181.666667</td>\n",
       "      <td>148.958333</td>\n",
       "      <td>111.083333</td>\n",
       "      <td>184.291667</td>\n",
       "      <td>138.791667</td>\n",
       "      <td>133.625000</td>\n",
       "      <td>146.083333</td>\n",
       "      <td>105.333333</td>\n",
       "      <td>135.250000</td>\n",
       "    </tr>\n",
       "    <tr>\n",
       "      <th>25%</th>\n",
       "      <td>240.645833</td>\n",
       "      <td>385.979167</td>\n",
       "      <td>352.916667</td>\n",
       "      <td>325.500000</td>\n",
       "      <td>384.645833</td>\n",
       "      <td>392.354167</td>\n",
       "      <td>268.125000</td>\n",
       "      <td>387.979167</td>\n",
       "      <td>329.625000</td>\n",
       "      <td>409.195652</td>\n",
       "      <td>...</td>\n",
       "      <td>451.583333</td>\n",
       "      <td>403.791667</td>\n",
       "      <td>365.083333</td>\n",
       "      <td>422.895833</td>\n",
       "      <td>444.125000</td>\n",
       "      <td>358.375000</td>\n",
       "      <td>258.500000</td>\n",
       "      <td>364.833333</td>\n",
       "      <td>369.187500</td>\n",
       "      <td>251.375000</td>\n",
       "    </tr>\n",
       "    <tr>\n",
       "      <th>50%</th>\n",
       "      <td>363.500000</td>\n",
       "      <td>586.250000</td>\n",
       "      <td>551.000000</td>\n",
       "      <td>512.181818</td>\n",
       "      <td>588.875000</td>\n",
       "      <td>683.333333</td>\n",
       "      <td>388.500000</td>\n",
       "      <td>632.958333</td>\n",
       "      <td>582.208333</td>\n",
       "      <td>655.913043</td>\n",
       "      <td>...</td>\n",
       "      <td>769.000000</td>\n",
       "      <td>625.916667</td>\n",
       "      <td>581.208333</td>\n",
       "      <td>734.708333</td>\n",
       "      <td>703.958333</td>\n",
       "      <td>577.958333</td>\n",
       "      <td>383.375000</td>\n",
       "      <td>583.583333</td>\n",
       "      <td>633.041667</td>\n",
       "      <td>367.500000</td>\n",
       "    </tr>\n",
       "    <tr>\n",
       "      <th>75%</th>\n",
       "      <td>741.437500</td>\n",
       "      <td>1045.187500</td>\n",
       "      <td>1004.875000</td>\n",
       "      <td>897.954545</td>\n",
       "      <td>986.833333</td>\n",
       "      <td>1062.958333</td>\n",
       "      <td>842.270833</td>\n",
       "      <td>1000.666667</td>\n",
       "      <td>843.583333</td>\n",
       "      <td>1104.586957</td>\n",
       "      <td>...</td>\n",
       "      <td>1157.541667</td>\n",
       "      <td>990.645833</td>\n",
       "      <td>972.937500</td>\n",
       "      <td>1037.375000</td>\n",
       "      <td>928.437500</td>\n",
       "      <td>1008.062500</td>\n",
       "      <td>758.520833</td>\n",
       "      <td>943.833333</td>\n",
       "      <td>966.083333</td>\n",
       "      <td>835.520833</td>\n",
       "    </tr>\n",
       "    <tr>\n",
       "      <th>max</th>\n",
       "      <td>1119.375000</td>\n",
       "      <td>1504.125000</td>\n",
       "      <td>1458.750000</td>\n",
       "      <td>1283.727273</td>\n",
       "      <td>1384.791667</td>\n",
       "      <td>1442.583333</td>\n",
       "      <td>1296.041667</td>\n",
       "      <td>1368.375000</td>\n",
       "      <td>1104.958333</td>\n",
       "      <td>1553.260870</td>\n",
       "      <td>...</td>\n",
       "      <td>1546.083333</td>\n",
       "      <td>1355.375000</td>\n",
       "      <td>1364.666667</td>\n",
       "      <td>1340.041667</td>\n",
       "      <td>1152.916667</td>\n",
       "      <td>1438.166667</td>\n",
       "      <td>1133.666667</td>\n",
       "      <td>1304.083333</td>\n",
       "      <td>1299.125000</td>\n",
       "      <td>1303.541667</td>\n",
       "    </tr>\n",
       "  </tbody>\n",
       "</table>\n",
       "<p>8 rows × 363 columns</p>\n",
       "</div>"
      ],
      "text/plain": [
       "Date     1/01/2019    1/02/2019    1/03/2019    1/04/2019    1/05/2019  \\\n",
       "count     3.000000     3.000000     3.000000     3.000000     3.000000   \n",
       "mean    533.555556   758.694444   721.527778   644.909091   718.027778   \n",
       "std     521.997569   675.913043   668.475475   583.880641   612.486829   \n",
       "min     117.791667   185.708333   154.833333   138.818182   180.416667   \n",
       "25%     240.645833   385.979167   352.916667   325.500000   384.645833   \n",
       "50%     363.500000   586.250000   551.000000   512.181818   588.875000   \n",
       "75%     741.437500  1045.187500  1004.875000   897.954545   986.833333   \n",
       "max    1119.375000  1504.125000  1458.750000  1283.727273  1384.791667   \n",
       "\n",
       "Date     1/06/2019    1/07/2019    1/08/2019    1/09/2019    1/10/2019  ...  \\\n",
       "count     3.000000     3.000000     3.000000     3.000000     3.000000  ...   \n",
       "mean    742.430556   610.763889   714.777778   588.069444   790.550725  ...   \n",
       "std     672.554317   605.552942   616.771261   513.983397   705.098961  ...   \n",
       "min     101.375000   147.750000   143.000000    77.041667   162.478261  ...   \n",
       "25%     392.354167   268.125000   387.979167   329.625000   409.195652  ...   \n",
       "50%     683.333333   388.500000   632.958333   582.208333   655.913043  ...   \n",
       "75%    1062.958333   842.270833  1000.666667   843.583333  1104.586957  ...   \n",
       "max    1442.583333  1296.041667  1368.375000  1104.958333  1553.260870  ...   \n",
       "\n",
       "Date     9/03/2019    9/04/2019    9/05/2019    9/06/2019    9/07/2019  \\\n",
       "count     3.000000     3.000000     3.000000     3.000000     3.000000   \n",
       "mean    816.416667   720.986111   698.277778   728.611111   680.388889   \n",
       "std     707.151627   592.601436   616.251271   614.501854   484.742444   \n",
       "min     134.166667   181.666667   148.958333   111.083333   184.291667   \n",
       "25%     451.583333   403.791667   365.083333   422.895833   444.125000   \n",
       "50%     769.000000   625.916667   581.208333   734.708333   703.958333   \n",
       "75%    1157.541667   990.645833   972.937500  1037.375000   928.437500   \n",
       "max    1546.083333  1355.375000  1364.666667  1340.041667  1152.916667   \n",
       "\n",
       "Date     9/08/2019    9/09/2019    9/10/2019    9/11/2019    9/12/2019  \n",
       "count     3.000000     3.000000     3.000000     3.000000     3.000000  \n",
       "mean    718.305556   550.222222   677.916667   679.166667   602.097222  \n",
       "std     660.959042   520.479904   584.735054   598.230953   618.468469  \n",
       "min     138.791667   133.625000   146.083333   105.333333   135.250000  \n",
       "25%     358.375000   258.500000   364.833333   369.187500   251.375000  \n",
       "50%     577.958333   383.375000   583.583333   633.041667   367.500000  \n",
       "75%    1008.062500   758.520833   943.833333   966.083333   835.520833  \n",
       "max    1438.166667  1133.666667  1304.083333  1299.125000  1303.541667  \n",
       "\n",
       "[8 rows x 363 columns]"
      ]
     },
     "execution_count": 47,
     "metadata": {},
     "output_type": "execute_result"
    }
   ],
   "source": [
    "average_transposed.describe()\n"
   ]
  },
  {
   "cell_type": "code",
   "execution_count": null,
   "metadata": {},
   "outputs": [],
   "source": []
  },
  {
   "cell_type": "code",
   "execution_count": null,
   "metadata": {},
   "outputs": [],
   "source": []
  }
 ],
 "metadata": {
  "kernelspec": {
   "display_name": "Python [conda env:PythonData] *",
   "language": "python",
   "name": "conda-env-PythonData-py"
  },
  "language_info": {
   "codemirror_mode": {
    "name": "ipython",
    "version": 3
   },
   "file_extension": ".py",
   "mimetype": "text/x-python",
   "name": "python",
   "nbconvert_exporter": "python",
   "pygments_lexer": "ipython3",
   "version": "3.6.10"
  }
 },
 "nbformat": 4,
 "nbformat_minor": 4
}
