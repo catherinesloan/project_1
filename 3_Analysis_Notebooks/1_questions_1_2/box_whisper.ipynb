{
 "cells": [
  {
   "cell_type": "code",
   "execution_count": 1,
   "metadata": {},
   "outputs": [],
   "source": [
    "import pandas as pd\n",
    "import matplotlib.pyplot as plt\n",
    "import numpy as np\n",
    "import json"
   ]
  },
  {
   "cell_type": "code",
   "execution_count": 3,
   "metadata": {},
   "outputs": [
    {
     "data": {
      "text/html": [
       "<div>\n",
       "<style scoped>\n",
       "    .dataframe tbody tr th:only-of-type {\n",
       "        vertical-align: middle;\n",
       "    }\n",
       "\n",
       "    .dataframe tbody tr th {\n",
       "        vertical-align: top;\n",
       "    }\n",
       "\n",
       "    .dataframe thead th {\n",
       "        text-align: right;\n",
       "    }\n",
       "</style>\n",
       "<table border=\"1\" class=\"dataframe\">\n",
       "  <thead>\n",
       "    <tr style=\"text-align: right;\">\n",
       "      <th></th>\n",
       "      <th>Unnamed: 0</th>\n",
       "      <th>Name</th>\n",
       "      <th>Aggregate Rating</th>\n",
       "      <th>Type</th>\n",
       "      <th>Price</th>\n",
       "      <th>Latitude</th>\n",
       "      <th>Longitude</th>\n",
       "      <th>Sensor ID</th>\n",
       "      <th>Sensor</th>\n",
       "    </tr>\n",
       "  </thead>\n",
       "  <tbody>\n",
       "    <tr>\n",
       "      <th>0</th>\n",
       "      <td>0</td>\n",
       "      <td>Soul Cafe</td>\n",
       "      <td>3.0</td>\n",
       "      <td>Cafe</td>\n",
       "      <td>3</td>\n",
       "      <td>-37.813075</td>\n",
       "      <td>144.965281</td>\n",
       "      <td>1</td>\n",
       "      <td>Bourke Street Mall (North)</td>\n",
       "    </tr>\n",
       "    <tr>\n",
       "      <th>1</th>\n",
       "      <td>1</td>\n",
       "      <td>Song Tea</td>\n",
       "      <td>3.5</td>\n",
       "      <td>Beverages</td>\n",
       "      <td>1</td>\n",
       "      <td>-37.813810</td>\n",
       "      <td>144.965600</td>\n",
       "      <td>1</td>\n",
       "      <td>Bourke Street Mall (North)</td>\n",
       "    </tr>\n",
       "    <tr>\n",
       "      <th>2</th>\n",
       "      <td>2</td>\n",
       "      <td>Sensory Lab - Bourke Street</td>\n",
       "      <td>3.4</td>\n",
       "      <td>Cafe</td>\n",
       "      <td>2</td>\n",
       "      <td>-37.813398</td>\n",
       "      <td>144.964499</td>\n",
       "      <td>1</td>\n",
       "      <td>Bourke Street Mall (North)</td>\n",
       "    </tr>\n",
       "    <tr>\n",
       "      <th>3</th>\n",
       "      <td>3</td>\n",
       "      <td>SamSam</td>\n",
       "      <td>4.0</td>\n",
       "      <td>Restaurant</td>\n",
       "      <td>3</td>\n",
       "      <td>-37.812885</td>\n",
       "      <td>144.965210</td>\n",
       "      <td>1</td>\n",
       "      <td>Bourke Street Mall (North)</td>\n",
       "    </tr>\n",
       "    <tr>\n",
       "      <th>4</th>\n",
       "      <td>4</td>\n",
       "      <td>Boost Juice</td>\n",
       "      <td>3.7</td>\n",
       "      <td>Beverages</td>\n",
       "      <td>1</td>\n",
       "      <td>-37.813798</td>\n",
       "      <td>144.965849</td>\n",
       "      <td>1</td>\n",
       "      <td>Bourke Street Mall (North)</td>\n",
       "    </tr>\n",
       "    <tr>\n",
       "      <th>...</th>\n",
       "      <td>...</td>\n",
       "      <td>...</td>\n",
       "      <td>...</td>\n",
       "      <td>...</td>\n",
       "      <td>...</td>\n",
       "      <td>...</td>\n",
       "      <td>...</td>\n",
       "      <td>...</td>\n",
       "      <td>...</td>\n",
       "    </tr>\n",
       "    <tr>\n",
       "      <th>100</th>\n",
       "      <td>115</td>\n",
       "      <td>The Borek Bakehouse</td>\n",
       "      <td>4.4</td>\n",
       "      <td>Bakery</td>\n",
       "      <td>1</td>\n",
       "      <td>-37.807711</td>\n",
       "      <td>144.960005</td>\n",
       "      <td>26</td>\n",
       "      <td>QV Market-Elizabeth St (West)</td>\n",
       "    </tr>\n",
       "    <tr>\n",
       "      <th>101</th>\n",
       "      <td>116</td>\n",
       "      <td>Chickcha</td>\n",
       "      <td>3.7</td>\n",
       "      <td>Cafe</td>\n",
       "      <td>2</td>\n",
       "      <td>-37.809073</td>\n",
       "      <td>144.961767</td>\n",
       "      <td>26</td>\n",
       "      <td>QV Market-Elizabeth St (West)</td>\n",
       "    </tr>\n",
       "    <tr>\n",
       "      <th>102</th>\n",
       "      <td>117</td>\n",
       "      <td>Damiao Panda Fan 大妙火锅 · 川菜</td>\n",
       "      <td>3.0</td>\n",
       "      <td>Restaurant</td>\n",
       "      <td>3</td>\n",
       "      <td>-37.809614</td>\n",
       "      <td>144.961199</td>\n",
       "      <td>26</td>\n",
       "      <td>QV Market-Elizabeth St (West)</td>\n",
       "    </tr>\n",
       "    <tr>\n",
       "      <th>103</th>\n",
       "      <td>118</td>\n",
       "      <td>Mansae Korean BBQ &amp; Bar</td>\n",
       "      <td>4.5</td>\n",
       "      <td>Restaurant</td>\n",
       "      <td>4</td>\n",
       "      <td>-37.809563</td>\n",
       "      <td>144.959607</td>\n",
       "      <td>26</td>\n",
       "      <td>QV Market-Elizabeth St (West)</td>\n",
       "    </tr>\n",
       "    <tr>\n",
       "      <th>104</th>\n",
       "      <td>119</td>\n",
       "      <td>The Orient Hot Pot</td>\n",
       "      <td>3.8</td>\n",
       "      <td>Restaurant</td>\n",
       "      <td>4</td>\n",
       "      <td>-37.809021</td>\n",
       "      <td>144.961862</td>\n",
       "      <td>26</td>\n",
       "      <td>QV Market-Elizabeth St (West)</td>\n",
       "    </tr>\n",
       "  </tbody>\n",
       "</table>\n",
       "<p>105 rows × 9 columns</p>\n",
       "</div>"
      ],
      "text/plain": [
       "     Unnamed: 0                         Name  Aggregate Rating        Type  \\\n",
       "0             0                    Soul Cafe               3.0        Cafe   \n",
       "1             1                     Song Tea               3.5   Beverages   \n",
       "2             2  Sensory Lab - Bourke Street               3.4        Cafe   \n",
       "3             3                       SamSam               4.0  Restaurant   \n",
       "4             4                  Boost Juice               3.7   Beverages   \n",
       "..          ...                          ...               ...         ...   \n",
       "100         115          The Borek Bakehouse               4.4      Bakery   \n",
       "101         116                     Chickcha               3.7        Cafe   \n",
       "102         117   Damiao Panda Fan 大妙火锅 · 川菜               3.0  Restaurant   \n",
       "103         118      Mansae Korean BBQ & Bar               4.5  Restaurant   \n",
       "104         119           The Orient Hot Pot               3.8  Restaurant   \n",
       "\n",
       "     Price   Latitude   Longitude  Sensor ID                         Sensor  \n",
       "0        3 -37.813075  144.965281          1     Bourke Street Mall (North)  \n",
       "1        1 -37.813810  144.965600          1     Bourke Street Mall (North)  \n",
       "2        2 -37.813398  144.964499          1     Bourke Street Mall (North)  \n",
       "3        3 -37.812885  144.965210          1     Bourke Street Mall (North)  \n",
       "4        1 -37.813798  144.965849          1     Bourke Street Mall (North)  \n",
       "..     ...        ...         ...        ...                            ...  \n",
       "100      1 -37.807711  144.960005         26  QV Market-Elizabeth St (West)  \n",
       "101      2 -37.809073  144.961767         26  QV Market-Elizabeth St (West)  \n",
       "102      3 -37.809614  144.961199         26  QV Market-Elizabeth St (West)  \n",
       "103      4 -37.809563  144.959607         26  QV Market-Elizabeth St (West)  \n",
       "104      4 -37.809021  144.961862         26  QV Market-Elizabeth St (West)  \n",
       "\n",
       "[105 rows x 9 columns]"
      ]
     },
     "execution_count": 3,
     "metadata": {},
     "output_type": "execute_result"
    }
   ],
   "source": [
    "# pulling the data from the csv file \n",
    "df = pd.read_csv(\"../../Output/2_zomato_csv/Zomato_Restaurants_All_Consolidated-Types.csv\")\n",
    "df"
   ]
  },
  {
   "cell_type": "code",
   "execution_count": 4,
   "metadata": {},
   "outputs": [
    {
     "data": {
      "text/plain": [
       "Unnamed: 0            int64\n",
       "Name                 object\n",
       "Aggregate Rating    float64\n",
       "Type                 object\n",
       "Price                 int64\n",
       "Latitude            float64\n",
       "Longitude           float64\n",
       "Sensor ID             int64\n",
       "Sensor               object\n",
       "dtype: object"
      ]
     },
     "execution_count": 4,
     "metadata": {},
     "output_type": "execute_result"
    }
   ],
   "source": [
    "# check data types\n",
    "df.dtypes"
   ]
  },
  {
   "cell_type": "code",
   "execution_count": 5,
   "metadata": {},
   "outputs": [
    {
     "data": {
      "text/plain": [
       "array(['Bourke Street Mall (North)', 'Flinders St-Spark La',\n",
       "       'QV Market-Elizabeth St (West)'], dtype=object)"
      ]
     },
     "execution_count": 5,
     "metadata": {},
     "output_type": "execute_result"
    }
   ],
   "source": [
    "# get sensors by name\n",
    "df[\"Sensor\"].unique()"
   ]
  },
  {
   "cell_type": "code",
   "execution_count": 6,
   "metadata": {},
   "outputs": [],
   "source": [
    "# Put locations into a list for for loop \n",
    "locations = ['Bourke Street Mall (North)', 'Flinders St-Spark La', 'QV Market-Elizabeth St (West)']"
   ]
  },
  {
   "cell_type": "code",
   "execution_count": 7,
   "metadata": {},
   "outputs": [],
   "source": [
    "# Creating an empty list to store the ratings for each sensor\n",
    "ratings_data = []"
   ]
  },
  {
   "cell_type": "code",
   "execution_count": 8,
   "metadata": {},
   "outputs": [
    {
     "name": "stdout",
     "output_type": "stream",
     "text": [
      "For Bourke Street Mall (North), the interquartile range of the ratings is 0.75.\n",
      "For Bourke Street Mall (North) values below 2.05 could be outliers\n",
      "For Bourke Street Mall (North) values above 5.05 could be outliers\n",
      "For Flinders St-Spark La, the interquartile range of the ratings is 0.73.\n",
      "For Flinders St-Spark La values below 2.21 could be outliers\n",
      "For Flinders St-Spark La values above 5.11 could be outliers\n",
      "For QV Market-Elizabeth St (West), the interquartile range of the ratings is 0.7.\n",
      "For QV Market-Elizabeth St (West) values below 2.35 could be outliers\n",
      "For QV Market-Elizabeth St (West) values above 5.15 could be outliers\n"
     ]
    }
   ],
   "source": [
    "for location in locations:\n",
    "    \n",
    "    # Locing in on the 3 locations in list\n",
    "    sens_df = df.loc[df[\"Sensor\"] == location]\n",
    "\n",
    "    ratings = sens_df['Aggregate Rating']\n",
    "    ratings_data.append(ratings)\n",
    "    \n",
    "    #Calculating the IQR\n",
    "    # If the data is in a dataframe, we use pandas to give quartile calculations\n",
    "    quartiles = ratings.quantile([.25,.5,.75])\n",
    "    lowerq = quartiles[0.25]\n",
    "    upperq = quartiles[0.75]\n",
    "    iqr = upperq - lowerq\n",
    "    \n",
    "    # Determining outliers using upper and lower bounds\n",
    "    lower_bound = lowerq - (1.5*iqr)\n",
    "    upper_bound = upperq + (1.5*iqr)\n",
    "    \n",
    "    # Print findings\n",
    "    print(f\"For {location}, the interquartile range of the ratings is {iqr.round(2)}.\")\n",
    "    print(f\"For {location} values below {lower_bound.round(2)} could be outliers\")\n",
    "    print(f\"For {location} values above {upper_bound.round(2)} could be outliers\")"
   ]
  },
  {
   "cell_type": "code",
   "execution_count": 10,
   "metadata": {},
   "outputs": [
    {
     "data": {
      "image/png": "[encoded data removed]",
      "text/plain": [
       "<Figure size 432x288 with 1 Axes>"
      ]
     },
     "metadata": {
      "needs_background": "light"
     },
     "output_type": "display_data"
    }
   ],
   "source": [
    "# Giving potential outliers custom style or color \n",
    "red_diamond = dict(markerfacecolor='r', marker='D')\n",
    "\n",
    "fig1, ax1 = plt.subplots()\n",
    "ax1.set_title('Restaurant Ratings')\n",
    "ax1.set_ylabel('Rating out of 5')\n",
    "ax1.set_xlabel(locations)\n",
    "ax1.boxplot(ratings_data, flierprops = red_diamond)\n",
    "plt.savefig(\"../../Output/ratings_boxandwhisper.png\")\n",
    "plt.show()"
   ]
  },
  {
   "cell_type": "code",
   "execution_count": 12,
   "metadata": {},
   "outputs": [],
   "source": [
    "# Creating an empty list to store the prices for each sensor\n",
    "prices_data = []"
   ]
  },
  {
   "cell_type": "code",
   "execution_count": 13,
   "metadata": {},
   "outputs": [
    {
     "name": "stdout",
     "output_type": "stream",
     "text": [
      "For Bourke Street Mall (North), the interquartile range of the prices is 2.0.\n",
      "For Bourke Street Mall (North) values below -2.0 could be outliers\n",
      "For Bourke Street Mall (North) values above 6.0 could be outliers\n",
      "For Flinders St-Spark La, the interquartile range of the prices is 2.0.\n",
      "For Flinders St-Spark La values below -1.0 could be outliers\n",
      "For Flinders St-Spark La values above 7.0 could be outliers\n",
      "For QV Market-Elizabeth St (West), the interquartile range of the prices is 1.0.\n",
      "For QV Market-Elizabeth St (West) values below 0.5 could be outliers\n",
      "For QV Market-Elizabeth St (West) values above 4.5 could be outliers\n"
     ]
    }
   ],
   "source": [
    "for location in locations:\n",
    "    \n",
    "    # Locing in on the 3 locations in list\n",
    "    sens_df = df.loc[df[\"Sensor\"] == location]\n",
    "\n",
    "    prices = sens_df['Price']\n",
    "    prices_data.append(prices)\n",
    "    \n",
    "    #Calculating the IQR\n",
    "    # If the data is in a dataframe, we use pandas to give quartile calculations\n",
    "    quartiles = prices.quantile([.25,.5,.75])\n",
    "    lowerq = quartiles[0.25]\n",
    "    upperq = quartiles[0.75]\n",
    "    iqr = upperq - lowerq\n",
    "    \n",
    "    # Determining outliers using upper and lower bounds\n",
    "    lower_bound = lowerq - (1.5*iqr)\n",
    "    upper_bound = upperq + (1.5*iqr)\n",
    "    \n",
    "    # Print findings\n",
    "    print(f\"For {location}, the interquartile range of the prices is {iqr.round(2)}.\")\n",
    "    print(f\"For {location} values below {lower_bound.round(2)} could be outliers\")\n",
    "    print(f\"For {location} values above {upper_bound.round(2)} could be outliers\")"
   ]
  },
  {
   "cell_type": "code",
   "execution_count": 12,
   "metadata": {},
   "outputs": [
    {
     "data": {
      "image/png": "[encoded data removed]",
      "text/plain": [
       "<Figure size 432x288 with 1 Axes>"
      ]
     },
     "metadata": {
      "needs_background": "light"
     },
     "output_type": "display_data"
    }
   ],
   "source": [
    "# Giving potential outliers custom style or color \n",
    "red_diamond = dict(markerfacecolor='r', marker='D')\n",
    "\n",
    "fig1, ax1 = plt.subplots()\n",
    "ax1.set_title('Restaurant Prices')\n",
    "ax1.set_ylabel('Pricing out of 5')\n",
    "ax1.set_xlabel(locations)\n",
    "ax1.boxplot(prices_data, flierprops = red_diamond)\n",
    "plt.savefig(\"../../Output/prices_boxandwhisper.png\")\n",
    "plt.show()\n"
   ]
  },
  {
   "cell_type": "code",
   "execution_count": null,
   "metadata": {},
   "outputs": [],
   "source": []
  },
  {
   "cell_type": "code",
   "execution_count": null,
   "metadata": {},
   "outputs": [],
   "source": []
  },
  {
   "cell_type": "code",
   "execution_count": null,
   "metadata": {},
   "outputs": [],
   "source": []
  }
 ],
 "metadata": {
  "kernelspec": {
   "display_name": "Python [conda env:PythonData] *",
   "language": "python",
   "name": "conda-env-PythonData-py"
  },
  "language_info": {
   "codemirror_mode": {
    "name": "ipython",
    "version": 3
   },
   "file_extension": ".py",
   "mimetype": "text/x-python",
   "name": "python",
   "nbconvert_exporter": "python",
   "pygments_lexer": "ipython3",
   "version": "3.6.10"
  }
 },
 "nbformat": 4,
 "nbformat_minor": 4
}
