{
 "cells": [
  {
   "cell_type": "code",
   "execution_count": 1,
   "metadata": {},
   "outputs": [],
   "source": [
    "import pandas as pd\n",
    "import matplotlib.pyplot as plt\n",
    "import numpy as np\n",
    "import json"
   ]
  },
  {
   "cell_type": "code",
   "execution_count": 2,
   "metadata": {},
   "outputs": [
    {
     "data": {
      "text/html": [
       "<div>\n",
       "<style scoped>\n",
       "    .dataframe tbody tr th:only-of-type {\n",
       "        vertical-align: middle;\n",
       "    }\n",
       "\n",
       "    .dataframe tbody tr th {\n",
       "        vertical-align: top;\n",
       "    }\n",
       "\n",
       "    .dataframe thead th {\n",
       "        text-align: right;\n",
       "    }\n",
       "</style>\n",
       "<table border=\"1\" class=\"dataframe\">\n",
       "  <thead>\n",
       "    <tr style=\"text-align: right;\">\n",
       "      <th></th>\n",
       "      <th>Unnamed: 0</th>\n",
       "      <th>Name</th>\n",
       "      <th>Aggregate Rating</th>\n",
       "      <th>Type</th>\n",
       "      <th>Price</th>\n",
       "      <th>Latitude</th>\n",
       "      <th>Longitude</th>\n",
       "      <th>Sensor ID</th>\n",
       "      <th>Sensor</th>\n",
       "    </tr>\n",
       "  </thead>\n",
       "  <tbody>\n",
       "    <tr>\n",
       "      <th>0</th>\n",
       "      <td>0</td>\n",
       "      <td>Soul Cafe</td>\n",
       "      <td>3.0</td>\n",
       "      <td>Cafe</td>\n",
       "      <td>3</td>\n",
       "      <td>-37.813075</td>\n",
       "      <td>144.965281</td>\n",
       "      <td>1</td>\n",
       "      <td>Bourke Street Mall (North)</td>\n",
       "    </tr>\n",
       "    <tr>\n",
       "      <th>1</th>\n",
       "      <td>1</td>\n",
       "      <td>Song Tea</td>\n",
       "      <td>3.5</td>\n",
       "      <td>Beverages</td>\n",
       "      <td>1</td>\n",
       "      <td>-37.813810</td>\n",
       "      <td>144.965600</td>\n",
       "      <td>1</td>\n",
       "      <td>Bourke Street Mall (North)</td>\n",
       "    </tr>\n",
       "    <tr>\n",
       "      <th>2</th>\n",
       "      <td>2</td>\n",
       "      <td>Sensory Lab - Bourke Street</td>\n",
       "      <td>3.4</td>\n",
       "      <td>Cafe</td>\n",
       "      <td>2</td>\n",
       "      <td>-37.813398</td>\n",
       "      <td>144.964499</td>\n",
       "      <td>1</td>\n",
       "      <td>Bourke Street Mall (North)</td>\n",
       "    </tr>\n",
       "    <tr>\n",
       "      <th>3</th>\n",
       "      <td>3</td>\n",
       "      <td>SamSam</td>\n",
       "      <td>4.0</td>\n",
       "      <td>Restaurant</td>\n",
       "      <td>3</td>\n",
       "      <td>-37.812885</td>\n",
       "      <td>144.965210</td>\n",
       "      <td>1</td>\n",
       "      <td>Bourke Street Mall (North)</td>\n",
       "    </tr>\n",
       "    <tr>\n",
       "      <th>4</th>\n",
       "      <td>4</td>\n",
       "      <td>Boost Juice</td>\n",
       "      <td>3.7</td>\n",
       "      <td>Beverages</td>\n",
       "      <td>1</td>\n",
       "      <td>-37.813798</td>\n",
       "      <td>144.965849</td>\n",
       "      <td>1</td>\n",
       "      <td>Bourke Street Mall (North)</td>\n",
       "    </tr>\n",
       "    <tr>\n",
       "      <th>...</th>\n",
       "      <td>...</td>\n",
       "      <td>...</td>\n",
       "      <td>...</td>\n",
       "      <td>...</td>\n",
       "      <td>...</td>\n",
       "      <td>...</td>\n",
       "      <td>...</td>\n",
       "      <td>...</td>\n",
       "      <td>...</td>\n",
       "    </tr>\n",
       "    <tr>\n",
       "      <th>100</th>\n",
       "      <td>115</td>\n",
       "      <td>The Borek Bakehouse</td>\n",
       "      <td>4.4</td>\n",
       "      <td>Bakery</td>\n",
       "      <td>1</td>\n",
       "      <td>-37.807711</td>\n",
       "      <td>144.960005</td>\n",
       "      <td>26</td>\n",
       "      <td>QV Market-Elizabeth St (West)</td>\n",
       "    </tr>\n",
       "    <tr>\n",
       "      <th>101</th>\n",
       "      <td>116</td>\n",
       "      <td>Chickcha</td>\n",
       "      <td>3.7</td>\n",
       "      <td>Cafe</td>\n",
       "      <td>2</td>\n",
       "      <td>-37.809073</td>\n",
       "      <td>144.961767</td>\n",
       "      <td>26</td>\n",
       "      <td>QV Market-Elizabeth St (West)</td>\n",
       "    </tr>\n",
       "    <tr>\n",
       "      <th>102</th>\n",
       "      <td>117</td>\n",
       "      <td>Damiao Panda Fan 大妙火锅 · 川菜</td>\n",
       "      <td>3.0</td>\n",
       "      <td>Restaurant</td>\n",
       "      <td>3</td>\n",
       "      <td>-37.809614</td>\n",
       "      <td>144.961199</td>\n",
       "      <td>26</td>\n",
       "      <td>QV Market-Elizabeth St (West)</td>\n",
       "    </tr>\n",
       "    <tr>\n",
       "      <th>103</th>\n",
       "      <td>118</td>\n",
       "      <td>Mansae Korean BBQ &amp; Bar</td>\n",
       "      <td>4.5</td>\n",
       "      <td>Restaurant</td>\n",
       "      <td>4</td>\n",
       "      <td>-37.809563</td>\n",
       "      <td>144.959607</td>\n",
       "      <td>26</td>\n",
       "      <td>QV Market-Elizabeth St (West)</td>\n",
       "    </tr>\n",
       "    <tr>\n",
       "      <th>104</th>\n",
       "      <td>119</td>\n",
       "      <td>The Orient Hot Pot</td>\n",
       "      <td>3.8</td>\n",
       "      <td>Restaurant</td>\n",
       "      <td>4</td>\n",
       "      <td>-37.809021</td>\n",
       "      <td>144.961862</td>\n",
       "      <td>26</td>\n",
       "      <td>QV Market-Elizabeth St (West)</td>\n",
       "    </tr>\n",
       "  </tbody>\n",
       "</table>\n",
       "<p>105 rows × 9 columns</p>\n",
       "</div>"
      ],
      "text/plain": [
       "     Unnamed: 0                         Name  Aggregate Rating        Type  \\\n",
       "0             0                    Soul Cafe               3.0        Cafe   \n",
       "1             1                     Song Tea               3.5   Beverages   \n",
       "2             2  Sensory Lab - Bourke Street               3.4        Cafe   \n",
       "3             3                       SamSam               4.0  Restaurant   \n",
       "4             4                  Boost Juice               3.7   Beverages   \n",
       "..          ...                          ...               ...         ...   \n",
       "100         115          The Borek Bakehouse               4.4      Bakery   \n",
       "101         116                     Chickcha               3.7        Cafe   \n",
       "102         117   Damiao Panda Fan 大妙火锅 · 川菜               3.0  Restaurant   \n",
       "103         118      Mansae Korean BBQ & Bar               4.5  Restaurant   \n",
       "104         119           The Orient Hot Pot               3.8  Restaurant   \n",
       "\n",
       "     Price   Latitude   Longitude  Sensor ID                         Sensor  \n",
       "0        3 -37.813075  144.965281          1     Bourke Street Mall (North)  \n",
       "1        1 -37.813810  144.965600          1     Bourke Street Mall (North)  \n",
       "2        2 -37.813398  144.964499          1     Bourke Street Mall (North)  \n",
       "3        3 -37.812885  144.965210          1     Bourke Street Mall (North)  \n",
       "4        1 -37.813798  144.965849          1     Bourke Street Mall (North)  \n",
       "..     ...        ...         ...        ...                            ...  \n",
       "100      1 -37.807711  144.960005         26  QV Market-Elizabeth St (West)  \n",
       "101      2 -37.809073  144.961767         26  QV Market-Elizabeth St (West)  \n",
       "102      3 -37.809614  144.961199         26  QV Market-Elizabeth St (West)  \n",
       "103      4 -37.809563  144.959607         26  QV Market-Elizabeth St (West)  \n",
       "104      4 -37.809021  144.961862         26  QV Market-Elizabeth St (West)  \n",
       "\n",
       "[105 rows x 9 columns]"
      ]
     },
     "execution_count": 2,
     "metadata": {},
     "output_type": "execute_result"
    }
   ],
   "source": [
    "# pulling the data from the csv file \n",
    "df = pd.read_csv(\"../../Output/2_zomato_csv/Zomato_Restaurants_All_Consolidated-Types.csv\")\n",
    "df"
   ]
  },
  {
   "cell_type": "code",
   "execution_count": 3,
   "metadata": {},
   "outputs": [
    {
     "data": {
      "text/plain": [
       "Unnamed: 0          105\n",
       "Name                105\n",
       "Aggregate Rating    105\n",
       "Type                105\n",
       "Price               105\n",
       "Latitude            105\n",
       "Longitude           105\n",
       "Sensor ID           105\n",
       "Sensor              105\n",
       "dtype: int64"
      ]
     },
     "execution_count": 3,
     "metadata": {},
     "output_type": "execute_result"
    }
   ],
   "source": [
    "df.count()"
   ]
  },
  {
   "cell_type": "code",
   "execution_count": 4,
   "metadata": {},
   "outputs": [
    {
     "data": {
      "text/plain": [
       "Unnamed: 0            int64\n",
       "Name                 object\n",
       "Aggregate Rating    float64\n",
       "Type                 object\n",
       "Price                 int64\n",
       "Latitude            float64\n",
       "Longitude           float64\n",
       "Sensor ID             int64\n",
       "Sensor               object\n",
       "dtype: object"
      ]
     },
     "execution_count": 4,
     "metadata": {},
     "output_type": "execute_result"
    }
   ],
   "source": [
    "df.dtypes"
   ]
  },
  {
   "cell_type": "code",
   "execution_count": 5,
   "metadata": {},
   "outputs": [
    {
     "data": {
      "text/html": [
       "<div>\n",
       "<style scoped>\n",
       "    .dataframe tbody tr th:only-of-type {\n",
       "        vertical-align: middle;\n",
       "    }\n",
       "\n",
       "    .dataframe tbody tr th {\n",
       "        vertical-align: top;\n",
       "    }\n",
       "\n",
       "    .dataframe thead th {\n",
       "        text-align: right;\n",
       "    }\n",
       "</style>\n",
       "<table border=\"1\" class=\"dataframe\">\n",
       "  <thead>\n",
       "    <tr style=\"text-align: right;\">\n",
       "      <th></th>\n",
       "      <th>Aggregate Rating</th>\n",
       "      <th>Price</th>\n",
       "    </tr>\n",
       "    <tr>\n",
       "      <th>Sensor</th>\n",
       "      <th></th>\n",
       "      <th></th>\n",
       "    </tr>\n",
       "  </thead>\n",
       "  <tbody>\n",
       "    <tr>\n",
       "      <th>Bourke Street Mall (North)</th>\n",
       "      <td>3.512500</td>\n",
       "      <td>2.000000</td>\n",
       "    </tr>\n",
       "    <tr>\n",
       "      <th>Flinders St-Spark La</th>\n",
       "      <td>3.722222</td>\n",
       "      <td>2.638889</td>\n",
       "    </tr>\n",
       "    <tr>\n",
       "      <th>QV Market-Elizabeth St (West)</th>\n",
       "      <td>3.767568</td>\n",
       "      <td>2.351351</td>\n",
       "    </tr>\n",
       "  </tbody>\n",
       "</table>\n",
       "</div>"
      ],
      "text/plain": [
       "                               Aggregate Rating     Price\n",
       "Sensor                                                   \n",
       "Bourke Street Mall (North)             3.512500  2.000000\n",
       "Flinders St-Spark La                   3.722222  2.638889\n",
       "QV Market-Elizabeth St (West)          3.767568  2.351351"
      ]
     },
     "execution_count": 5,
     "metadata": {},
     "output_type": "execute_result"
    }
   ],
   "source": [
    "# grouping by the date and applying aggregates\n",
    "grouped = df.groupby([\"Sensor\"])\n",
    "averages_df = grouped[['Aggregate Rating','Price']].mean()\n",
    "averages_df.head()"
   ]
  },
  {
   "cell_type": "code",
   "execution_count": 6,
   "metadata": {},
   "outputs": [
    {
     "data": {
      "text/html": [
       "<div>\n",
       "<style scoped>\n",
       "    .dataframe tbody tr th:only-of-type {\n",
       "        vertical-align: middle;\n",
       "    }\n",
       "\n",
       "    .dataframe tbody tr th {\n",
       "        vertical-align: top;\n",
       "    }\n",
       "\n",
       "    .dataframe thead th {\n",
       "        text-align: right;\n",
       "    }\n",
       "</style>\n",
       "<table border=\"1\" class=\"dataframe\">\n",
       "  <thead>\n",
       "    <tr style=\"text-align: right;\">\n",
       "      <th></th>\n",
       "      <th>Aggregate Rating</th>\n",
       "      <th>Price</th>\n",
       "      <th>Yearly Average Ped Count</th>\n",
       "    </tr>\n",
       "    <tr>\n",
       "      <th>Sensor</th>\n",
       "      <th></th>\n",
       "      <th></th>\n",
       "      <th></th>\n",
       "    </tr>\n",
       "  </thead>\n",
       "  <tbody>\n",
       "    <tr>\n",
       "      <th>Bourke Street Mall (North)</th>\n",
       "      <td>3.512500</td>\n",
       "      <td>2.000000</td>\n",
       "      <td></td>\n",
       "    </tr>\n",
       "    <tr>\n",
       "      <th>Flinders St-Spark La</th>\n",
       "      <td>3.722222</td>\n",
       "      <td>2.638889</td>\n",
       "      <td></td>\n",
       "    </tr>\n",
       "    <tr>\n",
       "      <th>QV Market-Elizabeth St (West)</th>\n",
       "      <td>3.767568</td>\n",
       "      <td>2.351351</td>\n",
       "      <td></td>\n",
       "    </tr>\n",
       "  </tbody>\n",
       "</table>\n",
       "</div>"
      ],
      "text/plain": [
       "                               Aggregate Rating     Price  \\\n",
       "Sensor                                                      \n",
       "Bourke Street Mall (North)             3.512500  2.000000   \n",
       "Flinders St-Spark La                   3.722222  2.638889   \n",
       "QV Market-Elizabeth St (West)          3.767568  2.351351   \n",
       "\n",
       "                              Yearly Average Ped Count  \n",
       "Sensor                                                  \n",
       "Bourke Street Mall (North)                              \n",
       "Flinders St-Spark La                                    \n",
       "QV Market-Elizabeth St (West)                           "
      ]
     },
     "execution_count": 6,
     "metadata": {},
     "output_type": "execute_result"
    }
   ],
   "source": [
    "# add empty column to dataframe to store pedestrian count data\n",
    "averages_df[\"Yearly Average Ped Count\"] = \"\"\n",
    "averages_df"
   ]
  },
  {
   "cell_type": "code",
   "execution_count": 8,
   "metadata": {},
   "outputs": [
    {
     "data": {
      "text/html": [
       "<div>\n",
       "<style scoped>\n",
       "    .dataframe tbody tr th:only-of-type {\n",
       "        vertical-align: middle;\n",
       "    }\n",
       "\n",
       "    .dataframe tbody tr th {\n",
       "        vertical-align: top;\n",
       "    }\n",
       "\n",
       "    .dataframe thead th {\n",
       "        text-align: right;\n",
       "    }\n",
       "</style>\n",
       "<table border=\"1\" class=\"dataframe\">\n",
       "  <thead>\n",
       "    <tr style=\"text-align: right;\">\n",
       "      <th></th>\n",
       "      <th>Bourke Street Mall (North)</th>\n",
       "      <th>Flinders St-Spark La</th>\n",
       "      <th>QV Market-Elizabeth St (West)</th>\n",
       "    </tr>\n",
       "  </thead>\n",
       "  <tbody>\n",
       "    <tr>\n",
       "      <th>0</th>\n",
       "      <td>1504.125000</td>\n",
       "      <td>185.708333</td>\n",
       "      <td>586.250000</td>\n",
       "    </tr>\n",
       "    <tr>\n",
       "      <th>1</th>\n",
       "      <td>1458.750000</td>\n",
       "      <td>154.833333</td>\n",
       "      <td>551.000000</td>\n",
       "    </tr>\n",
       "    <tr>\n",
       "      <th>2</th>\n",
       "      <td>1283.727273</td>\n",
       "      <td>138.818182</td>\n",
       "      <td>512.181818</td>\n",
       "    </tr>\n",
       "    <tr>\n",
       "      <th>3</th>\n",
       "      <td>1384.791667</td>\n",
       "      <td>180.416667</td>\n",
       "      <td>588.875000</td>\n",
       "    </tr>\n",
       "    <tr>\n",
       "      <th>4</th>\n",
       "      <td>1442.583333</td>\n",
       "      <td>101.375000</td>\n",
       "      <td>683.333333</td>\n",
       "    </tr>\n",
       "    <tr>\n",
       "      <th>...</th>\n",
       "      <td>...</td>\n",
       "      <td>...</td>\n",
       "      <td>...</td>\n",
       "    </tr>\n",
       "    <tr>\n",
       "      <th>357</th>\n",
       "      <td>1438.166667</td>\n",
       "      <td>138.791667</td>\n",
       "      <td>577.958333</td>\n",
       "    </tr>\n",
       "    <tr>\n",
       "      <th>358</th>\n",
       "      <td>1133.666667</td>\n",
       "      <td>133.625000</td>\n",
       "      <td>383.375000</td>\n",
       "    </tr>\n",
       "    <tr>\n",
       "      <th>359</th>\n",
       "      <td>1304.083333</td>\n",
       "      <td>146.083333</td>\n",
       "      <td>583.583333</td>\n",
       "    </tr>\n",
       "    <tr>\n",
       "      <th>360</th>\n",
       "      <td>1299.125000</td>\n",
       "      <td>105.333333</td>\n",
       "      <td>633.041667</td>\n",
       "    </tr>\n",
       "    <tr>\n",
       "      <th>361</th>\n",
       "      <td>1303.541667</td>\n",
       "      <td>135.250000</td>\n",
       "      <td>367.500000</td>\n",
       "    </tr>\n",
       "  </tbody>\n",
       "</table>\n",
       "<p>362 rows × 3 columns</p>\n",
       "</div>"
      ],
      "text/plain": [
       "     Bourke Street Mall (North)  Flinders St-Spark La  \\\n",
       "0                   1504.125000            185.708333   \n",
       "1                   1458.750000            154.833333   \n",
       "2                   1283.727273            138.818182   \n",
       "3                   1384.791667            180.416667   \n",
       "4                   1442.583333            101.375000   \n",
       "..                          ...                   ...   \n",
       "357                 1438.166667            138.791667   \n",
       "358                 1133.666667            133.625000   \n",
       "359                 1304.083333            146.083333   \n",
       "360                 1299.125000            105.333333   \n",
       "361                 1303.541667            135.250000   \n",
       "\n",
       "     QV Market-Elizabeth St (West)  \n",
       "0                       586.250000  \n",
       "1                       551.000000  \n",
       "2                       512.181818  \n",
       "3                       588.875000  \n",
       "4                       683.333333  \n",
       "..                             ...  \n",
       "357                     577.958333  \n",
       "358                     383.375000  \n",
       "359                     583.583333  \n",
       "360                     633.041667  \n",
       "361                     367.500000  \n",
       "\n",
       "[362 rows x 3 columns]"
      ]
     },
     "execution_count": 8,
     "metadata": {},
     "output_type": "execute_result"
    }
   ],
   "source": [
    "# Import pedestrian count data from 3 sensors produced from previous notebook\n",
    "location_averages_df = pd.read_csv(\"../../Output/1_pedestrian_csv/censors2019_chosen3_dailyaverage.csv\")\n",
    "location_averages_df"
   ]
  },
  {
   "cell_type": "code",
   "execution_count": 9,
   "metadata": {},
   "outputs": [
    {
     "data": {
      "text/plain": [
       "Bourke Street Mall (North)       1356.940859\n",
       "Flinders St-Spark La              147.076348\n",
       "QV Market-Elizabeth St (West)     607.616849\n",
       "dtype: float64"
      ]
     },
     "execution_count": 9,
     "metadata": {},
     "output_type": "execute_result"
    }
   ],
   "source": [
    "# get average and save as pandas series\n",
    "each_average = location_averages_df.mean()\n",
    "each_average"
   ]
  },
  {
   "cell_type": "code",
   "execution_count": 10,
   "metadata": {},
   "outputs": [
    {
     "data": {
      "text/html": [
       "<div>\n",
       "<style scoped>\n",
       "    .dataframe tbody tr th:only-of-type {\n",
       "        vertical-align: middle;\n",
       "    }\n",
       "\n",
       "    .dataframe tbody tr th {\n",
       "        vertical-align: top;\n",
       "    }\n",
       "\n",
       "    .dataframe thead th {\n",
       "        text-align: right;\n",
       "    }\n",
       "</style>\n",
       "<table border=\"1\" class=\"dataframe\">\n",
       "  <thead>\n",
       "    <tr style=\"text-align: right;\">\n",
       "      <th></th>\n",
       "      <th>Aggregate Rating</th>\n",
       "      <th>Price</th>\n",
       "      <th>Yearly Average Ped Count</th>\n",
       "    </tr>\n",
       "    <tr>\n",
       "      <th>Sensor</th>\n",
       "      <th></th>\n",
       "      <th></th>\n",
       "      <th></th>\n",
       "    </tr>\n",
       "  </thead>\n",
       "  <tbody>\n",
       "    <tr>\n",
       "      <th>Bourke Street Mall (North)</th>\n",
       "      <td>3.512500</td>\n",
       "      <td>2.000000</td>\n",
       "      <td>1356.940859</td>\n",
       "    </tr>\n",
       "    <tr>\n",
       "      <th>Flinders St-Spark La</th>\n",
       "      <td>3.722222</td>\n",
       "      <td>2.638889</td>\n",
       "      <td>147.076348</td>\n",
       "    </tr>\n",
       "    <tr>\n",
       "      <th>QV Market-Elizabeth St (West)</th>\n",
       "      <td>3.767568</td>\n",
       "      <td>2.351351</td>\n",
       "      <td>607.616849</td>\n",
       "    </tr>\n",
       "  </tbody>\n",
       "</table>\n",
       "</div>"
      ],
      "text/plain": [
       "                               Aggregate Rating     Price  \\\n",
       "Sensor                                                      \n",
       "Bourke Street Mall (North)             3.512500  2.000000   \n",
       "Flinders St-Spark La                   3.722222  2.638889   \n",
       "QV Market-Elizabeth St (West)          3.767568  2.351351   \n",
       "\n",
       "                               Yearly Average Ped Count  \n",
       "Sensor                                                   \n",
       "Bourke Street Mall (North)                  1356.940859  \n",
       "Flinders St-Spark La                         147.076348  \n",
       "QV Market-Elizabeth St (West)                607.616849  "
      ]
     },
     "execution_count": 10,
     "metadata": {},
     "output_type": "execute_result"
    }
   ],
   "source": [
    "# assign pandas series average pedestrian count data to aggregate rating & price dataframe\n",
    "averages_df[\"Yearly Average Ped Count\"]=each_average\n",
    "averages_df"
   ]
  },
  {
   "cell_type": "code",
   "execution_count": 11,
   "metadata": {},
   "outputs": [
    {
     "data": {
      "text/html": [
       "<div>\n",
       "<style scoped>\n",
       "    .dataframe tbody tr th:only-of-type {\n",
       "        vertical-align: middle;\n",
       "    }\n",
       "\n",
       "    .dataframe tbody tr th {\n",
       "        vertical-align: top;\n",
       "    }\n",
       "\n",
       "    .dataframe thead th {\n",
       "        text-align: right;\n",
       "    }\n",
       "</style>\n",
       "<table border=\"1\" class=\"dataframe\">\n",
       "  <thead>\n",
       "    <tr style=\"text-align: right;\">\n",
       "      <th></th>\n",
       "      <th>Sensor</th>\n",
       "      <th>Aggregate Rating</th>\n",
       "      <th>Price</th>\n",
       "      <th>Yearly Average Ped Count</th>\n",
       "    </tr>\n",
       "  </thead>\n",
       "  <tbody>\n",
       "    <tr>\n",
       "      <th>0</th>\n",
       "      <td>Bourke Street Mall (North)</td>\n",
       "      <td>3.512500</td>\n",
       "      <td>2.000000</td>\n",
       "      <td>1356.940859</td>\n",
       "    </tr>\n",
       "    <tr>\n",
       "      <th>1</th>\n",
       "      <td>Flinders St-Spark La</td>\n",
       "      <td>3.722222</td>\n",
       "      <td>2.638889</td>\n",
       "      <td>147.076348</td>\n",
       "    </tr>\n",
       "    <tr>\n",
       "      <th>2</th>\n",
       "      <td>QV Market-Elizabeth St (West)</td>\n",
       "      <td>3.767568</td>\n",
       "      <td>2.351351</td>\n",
       "      <td>607.616849</td>\n",
       "    </tr>\n",
       "  </tbody>\n",
       "</table>\n",
       "</div>"
      ],
      "text/plain": [
       "                          Sensor  Aggregate Rating     Price  \\\n",
       "0     Bourke Street Mall (North)          3.512500  2.000000   \n",
       "1           Flinders St-Spark La          3.722222  2.638889   \n",
       "2  QV Market-Elizabeth St (West)          3.767568  2.351351   \n",
       "\n",
       "   Yearly Average Ped Count  \n",
       "0               1356.940859  \n",
       "1                147.076348  \n",
       "2                607.616849  "
      ]
     },
     "execution_count": 11,
     "metadata": {},
     "output_type": "execute_result"
    }
   ],
   "source": [
    "# reset index \n",
    "averages_df.reset_index(inplace=True)\n",
    "averages_df"
   ]
  },
  {
   "cell_type": "code",
   "execution_count": 8,
   "metadata": {},
   "outputs": [],
   "source": [
    "# export dataframe as CSV file\n",
    "averages_df.to_csv(\"../../Output/1_pedestrian_csv/sensors3_averaged_rating_price_pedestrians.csv\")"
   ]
  },
  {
   "cell_type": "code",
   "execution_count": 12,
   "metadata": {},
   "outputs": [
    {
     "data": {
      "text/plain": [
       "Sensor                       object\n",
       "Aggregate Rating            float64\n",
       "Price                       float64\n",
       "Yearly Average Ped Count    float64\n",
       "dtype: object"
      ]
     },
     "execution_count": 12,
     "metadata": {},
     "output_type": "execute_result"
    }
   ],
   "source": [
    "# confirm datatype of all columns and that relevant columns are numerical \n",
    "averages_df.dtypes"
   ]
  },
  {
   "cell_type": "code",
   "execution_count": 17,
   "metadata": {},
   "outputs": [],
   "source": [
    "# set variables for bar chart analyses\n",
    "locations = averages_df[\"Sensor\"]\n",
    "price = averages_df[\"Price\"]\n",
    "footfall = averages_df[\"Yearly Average Ped Count\"]\n",
    "rating = averages_df[\"Aggregate Rating\"]"
   ]
  },
  {
   "cell_type": "code",
   "execution_count": 15,
   "metadata": {},
   "outputs": [
    {
     "data": {
      "image/png": "[encoded data removed]",
      "text/plain": [
       "<Figure size 432x288 with 1 Axes>"
      ]
     },
     "metadata": {
      "needs_background": "light"
     },
     "output_type": "display_data"
    }
   ],
   "source": [
    "# Create a bar chart based upon the above data\n",
    "plt.bar(locations, price, color=\"deeppink\", align=\"center\")\n",
    "plt.title(\"Average restaurant price in locations\")\n",
    "plt.xlabel(\"City location\")\n",
    "plt.ylabel(\"Average restaurant price\")\n",
    "plt.xticks(locations, rotation=45)\n",
    "# plt.figure(figsize=(10,10))\n",
    "# plt.tight_layout()\n",
    "plt.savefig(\"../../Output/barchart_avpricein3locations.png\")\n",
    "plt.show()"
   ]
  },
  {
   "cell_type": "code",
   "execution_count": 16,
   "metadata": {},
   "outputs": [
    {
     "data": {
      "image/png": "[encoded data removed]",
      "text/plain": [
       "<Figure size 432x288 with 1 Axes>"
      ]
     },
     "metadata": {
      "needs_background": "light"
     },
     "output_type": "display_data"
    }
   ],
   "source": [
    "# Create a bar chart based upon the above data\n",
    "plt.bar(locations, footfall, color=\"deeppink\", align=\"center\")\n",
    "plt.title(\"Average yearly pedestrian count in locations\")\n",
    "plt.xlabel(\"City location\")\n",
    "plt.ylabel(\"Average yearly pedestrian count\")\n",
    "plt.xticks(locations, rotation=45)\n",
    "# plt.figure(figsize=(10,10))\n",
    "# plt.tight_layout()\n",
    "plt.savefig(\"../../Output/barchart_yearlyavpedcountin3locations.png\")\n",
    "plt.show()"
   ]
  },
  {
   "cell_type": "code",
   "execution_count": 18,
   "metadata": {},
   "outputs": [
    {
     "data": {
      "image/png": "[encoded data removed]",
      "text/plain": [
       "<Figure size 432x288 with 1 Axes>"
      ]
     },
     "metadata": {
      "needs_background": "light"
     },
     "output_type": "display_data"
    }
   ],
   "source": [
    "# Create a bar chart based upon the above data\n",
    "plt.bar(locations, rating, color=\"deeppink\", align=\"center\")\n",
    "plt.title(\"Average restaurant rating in locations\")\n",
    "plt.xlabel(\"City location\")\n",
    "plt.ylabel(\"Average restaurant rating\")\n",
    "plt.xticks(locations, rotation=45)\n",
    "# plt.figure(figsize=(10,10))\n",
    "# plt.tight_layout()\n",
    "plt.savefig(\"../../Output/barchart_avratingin3locations.png\")\n",
    "plt.show()"
   ]
  },
  {
   "cell_type": "code",
   "execution_count": 19,
   "metadata": {},
   "outputs": [
    {
     "data": {
      "text/html": [
       "<div>\n",
       "<style scoped>\n",
       "    .dataframe tbody tr th:only-of-type {\n",
       "        vertical-align: middle;\n",
       "    }\n",
       "\n",
       "    .dataframe tbody tr th {\n",
       "        vertical-align: top;\n",
       "    }\n",
       "\n",
       "    .dataframe thead th {\n",
       "        text-align: right;\n",
       "    }\n",
       "</style>\n",
       "<table border=\"1\" class=\"dataframe\">\n",
       "  <thead>\n",
       "    <tr style=\"text-align: right;\">\n",
       "      <th></th>\n",
       "      <th>Sensor</th>\n",
       "      <th>Aggregate Rating</th>\n",
       "      <th>Price</th>\n",
       "    </tr>\n",
       "  </thead>\n",
       "  <tbody>\n",
       "    <tr>\n",
       "      <th>0</th>\n",
       "      <td>Bourke Street Mall (North)</td>\n",
       "      <td>3.512500</td>\n",
       "      <td>2.000000</td>\n",
       "    </tr>\n",
       "    <tr>\n",
       "      <th>1</th>\n",
       "      <td>Flinders St-Spark La</td>\n",
       "      <td>3.722222</td>\n",
       "      <td>2.638889</td>\n",
       "    </tr>\n",
       "    <tr>\n",
       "      <th>2</th>\n",
       "      <td>QV Market-Elizabeth St (West)</td>\n",
       "      <td>3.767568</td>\n",
       "      <td>2.351351</td>\n",
       "    </tr>\n",
       "  </tbody>\n",
       "</table>\n",
       "</div>"
      ],
      "text/plain": [
       "                          Sensor  Aggregate Rating     Price\n",
       "0     Bourke Street Mall (North)          3.512500  2.000000\n",
       "1           Flinders St-Spark La          3.722222  2.638889\n",
       "2  QV Market-Elizabeth St (West)          3.767568  2.351351"
      ]
     },
     "execution_count": 19,
     "metadata": {},
     "output_type": "execute_result"
    }
   ],
   "source": [
    "ratingprice_df = averages_df.loc[:,[\"Sensor\",\"Aggregate Rating\", \"Price\"]]\n",
    "ratingprice_df                            "
   ]
  },
  {
   "cell_type": "code",
   "execution_count": 20,
   "metadata": {},
   "outputs": [
    {
     "data": {
      "text/html": [
       "<div>\n",
       "<style scoped>\n",
       "    .dataframe tbody tr th:only-of-type {\n",
       "        vertical-align: middle;\n",
       "    }\n",
       "\n",
       "    .dataframe tbody tr th {\n",
       "        vertical-align: top;\n",
       "    }\n",
       "\n",
       "    .dataframe thead th {\n",
       "        text-align: right;\n",
       "    }\n",
       "</style>\n",
       "<table border=\"1\" class=\"dataframe\">\n",
       "  <thead>\n",
       "    <tr style=\"text-align: right;\">\n",
       "      <th></th>\n",
       "      <th>Aggregate Rating</th>\n",
       "      <th>Price</th>\n",
       "    </tr>\n",
       "    <tr>\n",
       "      <th>Sensor</th>\n",
       "      <th></th>\n",
       "      <th></th>\n",
       "    </tr>\n",
       "  </thead>\n",
       "  <tbody>\n",
       "    <tr>\n",
       "      <th>Bourke Street Mall (North)</th>\n",
       "      <td>3.512500</td>\n",
       "      <td>2.000000</td>\n",
       "    </tr>\n",
       "    <tr>\n",
       "      <th>Flinders St-Spark La</th>\n",
       "      <td>3.722222</td>\n",
       "      <td>2.638889</td>\n",
       "    </tr>\n",
       "    <tr>\n",
       "      <th>QV Market-Elizabeth St (West)</th>\n",
       "      <td>3.767568</td>\n",
       "      <td>2.351351</td>\n",
       "    </tr>\n",
       "  </tbody>\n",
       "</table>\n",
       "</div>"
      ],
      "text/plain": [
       "                               Aggregate Rating     Price\n",
       "Sensor                                                   \n",
       "Bourke Street Mall (North)             3.512500  2.000000\n",
       "Flinders St-Spark La                   3.722222  2.638889\n",
       "QV Market-Elizabeth St (West)          3.767568  2.351351"
      ]
     },
     "execution_count": 20,
     "metadata": {},
     "output_type": "execute_result"
    }
   ],
   "source": [
    "ratingprice_df = ratingprice_df.set_index(\"Sensor\")\n",
    "ratingprice_df"
   ]
  },
  {
   "cell_type": "code",
   "execution_count": 22,
   "metadata": {},
   "outputs": [
    {
     "data": {
      "image/png": "[encoded data removed]",
      "text/plain": [
       "<Figure size 1080x720 with 1 Axes>"
      ]
     },
     "metadata": {
      "needs_background": "light"
     },
     "output_type": "display_data"
    }
   ],
   "source": [
    "# Create a bar chart based off of the group series from before\n",
    "count_chart = ratingprice_df.plot(kind='bar',rot=30,fontsize=11, figsize=(15,10), grid=True)\n",
    "# Set the xlabel and ylabel using class methods\n",
    "count_chart.set_xlabel(\"Sensor Locations\", fontsize=14)\n",
    "count_chart.set_ylabel(\"Rating and price score out of 5\",fontsize=14)\n",
    "count_chart.set_title(\"Rating and price comparison for 3 sensor locations\", fontsize=16)\n",
    "plt.tight_layout()\n",
    "count_chart.get_figure()\n",
    "count_chart.figure.savefig(\"../../Output/bar_compareratingprice_3locations.png\")\n",
    "plt.show()"
   ]
  },
  {
   "cell_type": "code",
   "execution_count": null,
   "metadata": {},
   "outputs": [],
   "source": []
  }
 ],
 "metadata": {
  "kernelspec": {
   "display_name": "Python [conda env:PythonData] *",
   "language": "python",
   "name": "conda-env-PythonData-py"
  },
  "language_info": {
   "codemirror_mode": {
    "name": "ipython",
    "version": 3
   },
   "file_extension": ".py",
   "mimetype": "text/x-python",
   "name": "python",
   "nbconvert_exporter": "python",
   "pygments_lexer": "ipython3",
   "version": "3.6.10"
  }
 },
 "nbformat": 4,
 "nbformat_minor": 4
}
