{
 "cells": [
  {
   "cell_type": "code",
   "execution_count": 6,
   "metadata": {},
   "outputs": [],
   "source": [
    "# Dependencies and Setup\n",
    "import matplotlib.pyplot as plt\n",
    "import pandas as pd\n",
    "import numpy as np\n",
    "import requests\n",
    "import gmaps\n",
    "import os\n",
    "from scipy import stats\n",
    "\n",
    "# Import API key\n",
    "from config import gkey"
   ]
  },
  {
   "cell_type": "code",
   "execution_count": 7,
   "metadata": {},
   "outputs": [
    {
     "data": {
      "text/html": [
       "<div>\n",
       "<style scoped>\n",
       "    .dataframe tbody tr th:only-of-type {\n",
       "        vertical-align: middle;\n",
       "    }\n",
       "\n",
       "    .dataframe tbody tr th {\n",
       "        vertical-align: top;\n",
       "    }\n",
       "\n",
       "    .dataframe thead th {\n",
       "        text-align: right;\n",
       "    }\n",
       "</style>\n",
       "<table border=\"1\" class=\"dataframe\">\n",
       "  <thead>\n",
       "    <tr style=\"text-align: right;\">\n",
       "      <th></th>\n",
       "      <th>Unnamed: 0</th>\n",
       "      <th>Name</th>\n",
       "      <th>Aggregate Rating</th>\n",
       "      <th>Type</th>\n",
       "      <th>Price</th>\n",
       "      <th>Latitude</th>\n",
       "      <th>Longitude</th>\n",
       "      <th>Sensor ID</th>\n",
       "      <th>Sensor</th>\n",
       "    </tr>\n",
       "  </thead>\n",
       "  <tbody>\n",
       "    <tr>\n",
       "      <th>0</th>\n",
       "      <td>0</td>\n",
       "      <td>Soul Cafe</td>\n",
       "      <td>3.0</td>\n",
       "      <td>Cafe</td>\n",
       "      <td>3</td>\n",
       "      <td>-37.813075</td>\n",
       "      <td>144.965281</td>\n",
       "      <td>1</td>\n",
       "      <td>Bourke Street Mall (North)</td>\n",
       "    </tr>\n",
       "    <tr>\n",
       "      <th>1</th>\n",
       "      <td>1</td>\n",
       "      <td>Song Tea</td>\n",
       "      <td>3.5</td>\n",
       "      <td>Beverages</td>\n",
       "      <td>1</td>\n",
       "      <td>-37.813810</td>\n",
       "      <td>144.965600</td>\n",
       "      <td>1</td>\n",
       "      <td>Bourke Street Mall (North)</td>\n",
       "    </tr>\n",
       "    <tr>\n",
       "      <th>2</th>\n",
       "      <td>2</td>\n",
       "      <td>Sensory Lab - Bourke Street</td>\n",
       "      <td>3.4</td>\n",
       "      <td>Cafe</td>\n",
       "      <td>2</td>\n",
       "      <td>-37.813398</td>\n",
       "      <td>144.964499</td>\n",
       "      <td>1</td>\n",
       "      <td>Bourke Street Mall (North)</td>\n",
       "    </tr>\n",
       "    <tr>\n",
       "      <th>3</th>\n",
       "      <td>3</td>\n",
       "      <td>SamSam</td>\n",
       "      <td>4.0</td>\n",
       "      <td>Restaurant</td>\n",
       "      <td>3</td>\n",
       "      <td>-37.812885</td>\n",
       "      <td>144.965210</td>\n",
       "      <td>1</td>\n",
       "      <td>Bourke Street Mall (North)</td>\n",
       "    </tr>\n",
       "    <tr>\n",
       "      <th>4</th>\n",
       "      <td>4</td>\n",
       "      <td>Boost Juice</td>\n",
       "      <td>3.7</td>\n",
       "      <td>Beverages</td>\n",
       "      <td>1</td>\n",
       "      <td>-37.813798</td>\n",
       "      <td>144.965849</td>\n",
       "      <td>1</td>\n",
       "      <td>Bourke Street Mall (North)</td>\n",
       "    </tr>\n",
       "    <tr>\n",
       "      <th>...</th>\n",
       "      <td>...</td>\n",
       "      <td>...</td>\n",
       "      <td>...</td>\n",
       "      <td>...</td>\n",
       "      <td>...</td>\n",
       "      <td>...</td>\n",
       "      <td>...</td>\n",
       "      <td>...</td>\n",
       "      <td>...</td>\n",
       "    </tr>\n",
       "    <tr>\n",
       "      <th>100</th>\n",
       "      <td>115</td>\n",
       "      <td>The Borek Bakehouse</td>\n",
       "      <td>4.4</td>\n",
       "      <td>Bakery</td>\n",
       "      <td>1</td>\n",
       "      <td>-37.807711</td>\n",
       "      <td>144.960005</td>\n",
       "      <td>26</td>\n",
       "      <td>QV Market-Elizabeth St (West)</td>\n",
       "    </tr>\n",
       "    <tr>\n",
       "      <th>101</th>\n",
       "      <td>116</td>\n",
       "      <td>Chickcha</td>\n",
       "      <td>3.7</td>\n",
       "      <td>Cafe</td>\n",
       "      <td>2</td>\n",
       "      <td>-37.809073</td>\n",
       "      <td>144.961767</td>\n",
       "      <td>26</td>\n",
       "      <td>QV Market-Elizabeth St (West)</td>\n",
       "    </tr>\n",
       "    <tr>\n",
       "      <th>102</th>\n",
       "      <td>117</td>\n",
       "      <td>Damiao Panda Fan 大妙火锅 · 川菜</td>\n",
       "      <td>3.0</td>\n",
       "      <td>Restaurant</td>\n",
       "      <td>3</td>\n",
       "      <td>-37.809614</td>\n",
       "      <td>144.961199</td>\n",
       "      <td>26</td>\n",
       "      <td>QV Market-Elizabeth St (West)</td>\n",
       "    </tr>\n",
       "    <tr>\n",
       "      <th>103</th>\n",
       "      <td>118</td>\n",
       "      <td>Mansae Korean BBQ &amp; Bar</td>\n",
       "      <td>4.5</td>\n",
       "      <td>Restaurant</td>\n",
       "      <td>4</td>\n",
       "      <td>-37.809563</td>\n",
       "      <td>144.959607</td>\n",
       "      <td>26</td>\n",
       "      <td>QV Market-Elizabeth St (West)</td>\n",
       "    </tr>\n",
       "    <tr>\n",
       "      <th>104</th>\n",
       "      <td>119</td>\n",
       "      <td>The Orient Hot Pot</td>\n",
       "      <td>3.8</td>\n",
       "      <td>Restaurant</td>\n",
       "      <td>4</td>\n",
       "      <td>-37.809021</td>\n",
       "      <td>144.961862</td>\n",
       "      <td>26</td>\n",
       "      <td>QV Market-Elizabeth St (West)</td>\n",
       "    </tr>\n",
       "  </tbody>\n",
       "</table>\n",
       "<p>105 rows × 9 columns</p>\n",
       "</div>"
      ],
      "text/plain": [
       "     Unnamed: 0                         Name  Aggregate Rating        Type  \\\n",
       "0             0                    Soul Cafe               3.0        Cafe   \n",
       "1             1                     Song Tea               3.5   Beverages   \n",
       "2             2  Sensory Lab - Bourke Street               3.4        Cafe   \n",
       "3             3                       SamSam               4.0  Restaurant   \n",
       "4             4                  Boost Juice               3.7   Beverages   \n",
       "..          ...                          ...               ...         ...   \n",
       "100         115          The Borek Bakehouse               4.4      Bakery   \n",
       "101         116                     Chickcha               3.7        Cafe   \n",
       "102         117   Damiao Panda Fan 大妙火锅 · 川菜               3.0  Restaurant   \n",
       "103         118      Mansae Korean BBQ & Bar               4.5  Restaurant   \n",
       "104         119           The Orient Hot Pot               3.8  Restaurant   \n",
       "\n",
       "     Price   Latitude   Longitude  Sensor ID                         Sensor  \n",
       "0        3 -37.813075  144.965281          1     Bourke Street Mall (North)  \n",
       "1        1 -37.813810  144.965600          1     Bourke Street Mall (North)  \n",
       "2        2 -37.813398  144.964499          1     Bourke Street Mall (North)  \n",
       "3        3 -37.812885  144.965210          1     Bourke Street Mall (North)  \n",
       "4        1 -37.813798  144.965849          1     Bourke Street Mall (North)  \n",
       "..     ...        ...         ...        ...                            ...  \n",
       "100      1 -37.807711  144.960005         26  QV Market-Elizabeth St (West)  \n",
       "101      2 -37.809073  144.961767         26  QV Market-Elizabeth St (West)  \n",
       "102      3 -37.809614  144.961199         26  QV Market-Elizabeth St (West)  \n",
       "103      4 -37.809563  144.959607         26  QV Market-Elizabeth St (West)  \n",
       "104      4 -37.809021  144.961862         26  QV Market-Elizabeth St (West)  \n",
       "\n",
       "[105 rows x 9 columns]"
      ]
     },
     "execution_count": 7,
     "metadata": {},
     "output_type": "execute_result"
    }
   ],
   "source": [
    "df = pd.read_csv(\"../../Output/2_zomato_csv/Zomato_Restaurants_All_Consolidated-Types.csv\")\n",
    "df"
   ]
  },
  {
   "cell_type": "code",
   "execution_count": 8,
   "metadata": {},
   "outputs": [
    {
     "data": {
      "text/plain": [
       "array(['Bakery', 'Bar', 'Beverages', 'Cafe', 'Desserts', 'Fast Food',\n",
       "       'Pub', 'Restaurant'], dtype=object)"
      ]
     },
     "execution_count": 8,
     "metadata": {},
     "output_type": "execute_result"
    }
   ],
   "source": [
    "# get unique types \n",
    "types = df[\"Type\"].unique()\n",
    "types.sort()\n",
    "types"
   ]
  },
  {
   "cell_type": "code",
   "execution_count": 9,
   "metadata": {},
   "outputs": [],
   "source": [
    "# Filter dataframe based on sensor locations\n",
    "sensor_1_loc = df.loc[df[\"Sensor\"] == \"Bourke Street Mall (North)\",:]\n",
    "sensor_2_loc = df.loc[df[\"Sensor\"] == \"Flinders St-Spark La\",:]\n",
    "sensor_3_loc = df.loc[df[\"Sensor\"] == \"QV Market-Elizabeth St (West)\",:]\n",
    "\n",
    "# Count the number of eatery types per location and save as a dataframe\n",
    "sensor_1 = pd.DataFrame(sensor_1_loc[\"Type\"].value_counts()).sort_index().reset_index()\n",
    "sensor_2 = pd.DataFrame(sensor_2_loc[\"Type\"].value_counts()).sort_index().reset_index()\n",
    "sensor_3 = pd.DataFrame(sensor_3_loc[\"Type\"].value_counts()).sort_index().reset_index()\n"
   ]
  },
  {
   "cell_type": "code",
   "execution_count": 10,
   "metadata": {},
   "outputs": [
    {
     "data": {
      "text/html": [
       "<div>\n",
       "<style scoped>\n",
       "    .dataframe tbody tr th:only-of-type {\n",
       "        vertical-align: middle;\n",
       "    }\n",
       "\n",
       "    .dataframe tbody tr th {\n",
       "        vertical-align: top;\n",
       "    }\n",
       "\n",
       "    .dataframe thead th {\n",
       "        text-align: right;\n",
       "    }\n",
       "</style>\n",
       "<table border=\"1\" class=\"dataframe\">\n",
       "  <thead>\n",
       "    <tr style=\"text-align: right;\">\n",
       "      <th></th>\n",
       "      <th>index</th>\n",
       "      <th>Type</th>\n",
       "    </tr>\n",
       "  </thead>\n",
       "  <tbody>\n",
       "    <tr>\n",
       "      <th>0</th>\n",
       "      <td>Bakery</td>\n",
       "      <td>1</td>\n",
       "    </tr>\n",
       "    <tr>\n",
       "      <th>1</th>\n",
       "      <td>Beverages</td>\n",
       "      <td>7</td>\n",
       "    </tr>\n",
       "    <tr>\n",
       "      <th>2</th>\n",
       "      <td>Cafe</td>\n",
       "      <td>9</td>\n",
       "    </tr>\n",
       "    <tr>\n",
       "      <th>3</th>\n",
       "      <td>Desserts</td>\n",
       "      <td>1</td>\n",
       "    </tr>\n",
       "    <tr>\n",
       "      <th>4</th>\n",
       "      <td>Restaurant</td>\n",
       "      <td>14</td>\n",
       "    </tr>\n",
       "  </tbody>\n",
       "</table>\n",
       "</div>"
      ],
      "text/plain": [
       "        index  Type\n",
       "0      Bakery     1\n",
       "1   Beverages     7\n",
       "2        Cafe     9\n",
       "3    Desserts     1\n",
       "4  Restaurant    14"
      ]
     },
     "execution_count": 10,
     "metadata": {},
     "output_type": "execute_result"
    }
   ],
   "source": [
    "# confirm that dataframe is saved with eatery types and count\n",
    "sensor_1"
   ]
  },
  {
   "cell_type": "code",
   "execution_count": 11,
   "metadata": {},
   "outputs": [
    {
     "data": {
      "text/html": [
       "<div>\n",
       "<style scoped>\n",
       "    .dataframe tbody tr th:only-of-type {\n",
       "        vertical-align: middle;\n",
       "    }\n",
       "\n",
       "    .dataframe tbody tr th {\n",
       "        vertical-align: top;\n",
       "    }\n",
       "\n",
       "    .dataframe thead th {\n",
       "        text-align: right;\n",
       "    }\n",
       "</style>\n",
       "<table border=\"1\" class=\"dataframe\">\n",
       "  <thead>\n",
       "    <tr style=\"text-align: right;\">\n",
       "      <th></th>\n",
       "      <th>index</th>\n",
       "      <th>Bourke Street Mall (North)</th>\n",
       "      <th>Flinders St-Spark La</th>\n",
       "      <th>QV Market-Elizabeth St (West)</th>\n",
       "    </tr>\n",
       "  </thead>\n",
       "  <tbody>\n",
       "    <tr>\n",
       "      <th>0</th>\n",
       "      <td>Bakery</td>\n",
       "      <td>1.0</td>\n",
       "      <td>0.0</td>\n",
       "      <td>2.0</td>\n",
       "    </tr>\n",
       "    <tr>\n",
       "      <th>5</th>\n",
       "      <td>Bar</td>\n",
       "      <td>0.0</td>\n",
       "      <td>2.0</td>\n",
       "      <td>1.0</td>\n",
       "    </tr>\n",
       "    <tr>\n",
       "      <th>1</th>\n",
       "      <td>Beverages</td>\n",
       "      <td>7.0</td>\n",
       "      <td>2.0</td>\n",
       "      <td>5.0</td>\n",
       "    </tr>\n",
       "    <tr>\n",
       "      <th>2</th>\n",
       "      <td>Cafe</td>\n",
       "      <td>9.0</td>\n",
       "      <td>12.0</td>\n",
       "      <td>4.0</td>\n",
       "    </tr>\n",
       "    <tr>\n",
       "      <th>3</th>\n",
       "      <td>Desserts</td>\n",
       "      <td>1.0</td>\n",
       "      <td>1.0</td>\n",
       "      <td>1.0</td>\n",
       "    </tr>\n",
       "    <tr>\n",
       "      <th>6</th>\n",
       "      <td>Fast Food</td>\n",
       "      <td>0.0</td>\n",
       "      <td>2.0</td>\n",
       "      <td>0.0</td>\n",
       "    </tr>\n",
       "    <tr>\n",
       "      <th>7</th>\n",
       "      <td>Pub</td>\n",
       "      <td>0.0</td>\n",
       "      <td>0.0</td>\n",
       "      <td>1.0</td>\n",
       "    </tr>\n",
       "    <tr>\n",
       "      <th>4</th>\n",
       "      <td>Restaurant</td>\n",
       "      <td>14.0</td>\n",
       "      <td>17.0</td>\n",
       "      <td>23.0</td>\n",
       "    </tr>\n",
       "  </tbody>\n",
       "</table>\n",
       "</div>"
      ],
      "text/plain": [
       "        index  Bourke Street Mall (North)  Flinders St-Spark La  \\\n",
       "0      Bakery                         1.0                   0.0   \n",
       "5         Bar                         0.0                   2.0   \n",
       "1   Beverages                         7.0                   2.0   \n",
       "2        Cafe                         9.0                  12.0   \n",
       "3    Desserts                         1.0                   1.0   \n",
       "6   Fast Food                         0.0                   2.0   \n",
       "7         Pub                         0.0                   0.0   \n",
       "4  Restaurant                        14.0                  17.0   \n",
       "\n",
       "   QV Market-Elizabeth St (West)  \n",
       "0                            2.0  \n",
       "5                            1.0  \n",
       "1                            5.0  \n",
       "2                            4.0  \n",
       "3                            1.0  \n",
       "6                            0.0  \n",
       "7                            1.0  \n",
       "4                           23.0  "
      ]
     },
     "execution_count": 11,
     "metadata": {},
     "output_type": "execute_result"
    }
   ],
   "source": [
    "# merge the above dataframes on the Types to show each location in one dataframe. \n",
    "merge_1 = pd.merge(sensor_1,sensor_2, how=\"outer\", on=\"index\")\n",
    "merge = pd.merge(merge_1,sensor_3, how=\"outer\", on=\"index\")\n",
    "merge = merge.rename(columns={\"Type_x\":\"Bourke Street Mall (North)\",\n",
    "                              \"Type_y\":\"Flinders St-Spark La\",\n",
    "                              \"Type\":\"QV Market-Elizabeth St (West)\"\n",
    "                             }).fillna(0)\n",
    "sensors_df = merge.sort_values(by=\"index\")\n",
    "sensors_df"
   ]
  },
  {
   "cell_type": "code",
   "execution_count": 12,
   "metadata": {},
   "outputs": [
    {
     "data": {
      "text/plain": [
       "['Bakery',\n",
       " 'Bar',\n",
       " 'Beverages',\n",
       " 'Cafe',\n",
       " 'Desserts',\n",
       " 'Fast Food',\n",
       " 'Pub',\n",
       " 'Restaurant']"
      ]
     },
     "execution_count": 12,
     "metadata": {},
     "output_type": "execute_result"
    }
   ],
   "source": [
    "# set x axis for future plots\n",
    "x_axis = sensors_df[\"index\"].tolist()\n",
    "x_axis"
   ]
  },
  {
   "cell_type": "code",
   "execution_count": 13,
   "metadata": {},
   "outputs": [
    {
     "data": {
      "text/html": [
       "<div>\n",
       "<style scoped>\n",
       "    .dataframe tbody tr th:only-of-type {\n",
       "        vertical-align: middle;\n",
       "    }\n",
       "\n",
       "    .dataframe tbody tr th {\n",
       "        vertical-align: top;\n",
       "    }\n",
       "\n",
       "    .dataframe thead th {\n",
       "        text-align: right;\n",
       "    }\n",
       "</style>\n",
       "<table border=\"1\" class=\"dataframe\">\n",
       "  <thead>\n",
       "    <tr style=\"text-align: right;\">\n",
       "      <th>index</th>\n",
       "      <th>Bakery</th>\n",
       "      <th>Beverages</th>\n",
       "      <th>Cafe</th>\n",
       "      <th>Fast Food</th>\n",
       "    </tr>\n",
       "  </thead>\n",
       "  <tbody>\n",
       "    <tr>\n",
       "      <th>Bourke Street Mall (North)</th>\n",
       "      <td>1.0</td>\n",
       "      <td>7.0</td>\n",
       "      <td>9.0</td>\n",
       "      <td>0.0</td>\n",
       "    </tr>\n",
       "    <tr>\n",
       "      <th>Flinders St-Spark La</th>\n",
       "      <td>0.0</td>\n",
       "      <td>2.0</td>\n",
       "      <td>12.0</td>\n",
       "      <td>2.0</td>\n",
       "    </tr>\n",
       "    <tr>\n",
       "      <th>QV Market-Elizabeth St (West)</th>\n",
       "      <td>2.0</td>\n",
       "      <td>5.0</td>\n",
       "      <td>4.0</td>\n",
       "      <td>0.0</td>\n",
       "    </tr>\n",
       "  </tbody>\n",
       "</table>\n",
       "</div>"
      ],
      "text/plain": [
       "index                          Bakery  Beverages  Cafe  Fast Food\n",
       "Bourke Street Mall (North)        1.0        7.0   9.0        0.0\n",
       "Flinders St-Spark La              0.0        2.0  12.0        2.0\n",
       "QV Market-Elizabeth St (West)     2.0        5.0   4.0        0.0"
      ]
     },
     "execution_count": 13,
     "metadata": {},
     "output_type": "execute_result"
    }
   ],
   "source": [
    "# Set the eatery types as the index and then \n",
    "# transpose the merged dataframe based on location\n",
    "sensors = sensors_df.set_index(\"index\")\n",
    "sensors_transposed = sensors.T\n",
    "\n",
    "# Create two separate dataframes: one for daytime eatery types and one for nighttime types\n",
    "sensors_day = sensors_transposed[[\"Bakery\",\"Beverages\",\"Cafe\",\"Fast Food\"]]\n",
    "sensors_night = sensors_transposed[[\"Bar\",\"Desserts\",\"Pub\",\"Restaurant\"]]\n",
    "\n",
    "# Test to confirm dataframe successfully created\n",
    "sensors_day"
   ]
  },
  {
   "cell_type": "code",
   "execution_count": 14,
   "metadata": {
    "scrolled": false
   },
   "outputs": [
    {
     "data": {
      "image/png": "[encoded data removed]",
      "text/plain": [
       "<Figure size 720x576 with 1 Axes>"
      ]
     },
     "metadata": {
      "needs_background": "light"
     },
     "output_type": "display_data"
    }
   ],
   "source": [
    "# Create a grouped bar chart to compare all types on a single graph\n",
    "count_chart = sensors_transposed.plot(kind='bar',rot=30,fontsize=11, figsize=(10,8), grid=True)\n",
    "\n",
    "# Set the xlabel and ylabel using class methods\n",
    "count_chart.set_xlabel(\"Locations\", fontsize=14)\n",
    "count_chart.set_ylabel(\"Number of Eateries\",fontsize=14)\n",
    "count_chart.set_title(\"Eatery Types per Location\", fontsize=16)\n",
    "plt.tight_layout()\n",
    "count_chart.get_figure()\n",
    "count_chart.figure.savefig(\"../../Output/types_group_bar_day_night_eateries.png\")\n",
    "\n",
    "plt.show()\n"
   ]
  },
  {
   "cell_type": "code",
   "execution_count": 15,
   "metadata": {
    "scrolled": false
   },
   "outputs": [
    {
     "data": {
      "image/png": "[encoded data removed]",
      "text/plain": [
       "<Figure size 720x576 with 1 Axes>"
      ]
     },
     "metadata": {
      "needs_background": "light"
     },
     "output_type": "display_data"
    }
   ],
   "source": [
    "# Create a stacked bar chart to compare total daytime eateries per location\n",
    "count_chart_d = sensors_day.plot.bar(stacked=True, rot=30,fontsize=11, figsize=(10,8))\n",
    "\n",
    "# Set the xlabel and ylabel using class methods\n",
    "count_chart_d.set_xlabel(\"Locations\", fontsize=14)\n",
    "count_chart_d.set_ylabel(\"Number of Eateries\",fontsize=14)\n",
    "count_chart_d.set_title(\"Eatery Types per Location - Day Types\", fontsize=16)\n",
    "plt.tight_layout()\n",
    "count_chart_d.get_figure()\n",
    "count_chart_d.figure.savefig(\"../../Output/types_bar_stacked_day.png\")\n",
    "\n",
    "plt.show()\n"
   ]
  },
  {
   "cell_type": "code",
   "execution_count": 16,
   "metadata": {
    "scrolled": false
   },
   "outputs": [
    {
     "data": {
      "image/png": "[encoded data removed]",
      "text/plain": [
       "<Figure size 720x576 with 1 Axes>"
      ]
     },
     "metadata": {
      "needs_background": "light"
     },
     "output_type": "display_data"
    }
   ],
   "source": [
    "# Create a stacked bar chart to compare total nighttime eateries per location\n",
    "count_chart_n = sensors_night.plot.bar(stacked=True, rot=30,fontsize=11, figsize=(10,8))\n",
    "\n",
    "# Set the xlabel and ylabel using class methods\n",
    "count_chart_n.set_xlabel(\"Locations\", fontsize=14)\n",
    "count_chart_n.set_ylabel(\"Number of Eateries\",fontsize=14)\n",
    "count_chart_n.set_title(\"Eatery Types per Location - Night Types\", fontsize=16)\n",
    "plt.tight_layout()\n",
    "count_chart_n.get_figure()\n",
    "#count_chart.figure.savefig(\"types_bar_separate.png\")\n",
    "count_chart_n.figure.savefig(\"../../Output/types_bar_stacked_night.png\")\n",
    "\n",
    "plt.show()\n"
   ]
  },
  {
   "cell_type": "code",
   "execution_count": 17,
   "metadata": {},
   "outputs": [],
   "source": [
    "# Access maps with unique API key\n",
    "gmaps.configure(api_key=gkey)"
   ]
  },
  {
   "cell_type": "code",
   "execution_count": 18,
   "metadata": {},
   "outputs": [
    {
     "data": {
      "text/plain": [
       "array(['Bakery', 'Bar', 'Beverages', 'Cafe', 'Desserts', 'Fast Food',\n",
       "       'Pub', 'Restaurant'], dtype=object)"
      ]
     },
     "execution_count": 18,
     "metadata": {},
     "output_type": "execute_result"
    }
   ],
   "source": [
    "# Get list of types for reference\n",
    "types"
   ]
  },
  {
   "cell_type": "code",
   "execution_count": 19,
   "metadata": {},
   "outputs": [],
   "source": [
    "# Filter dataframe based on eatery types\n",
    "bakery_df = df.loc[df[\"Type\"]==\"Bakery\",:]\n",
    "bar_df = df.loc[df[\"Type\"]==\"Bar\",:]\n",
    "beverages_df = df.loc[df[\"Type\"]==\"Beverages\",:]\n",
    "cafe_df = df.loc[df[\"Type\"]==\"Cafe\",:]\n",
    "desserts_df = df.loc[df[\"Type\"]==\"Desserts\",:]\n",
    "fast_food_df = df.loc[df[\"Type\"]==\"Fast Food\",:]\n",
    "pub_df = df.loc[df[\"Type\"]==\"Pub\",:]\n",
    "restaurants_df = df.loc[df[\"Type\"]==\"Restaurant\",:]\n"
   ]
  },
  {
   "cell_type": "code",
   "execution_count": 20,
   "metadata": {},
   "outputs": [],
   "source": [
    "# set variables for dataframes by type holding only latitude and longitude data.\n",
    "locations_bakery = bakery_df[[\"Latitude\", \"Longitude\"]]\n",
    "locations_bar = bar_df[[\"Latitude\", \"Longitude\"]]\n",
    "locations_beverages = beverages_df[[\"Latitude\", \"Longitude\"]]\n",
    "locations_cafe = cafe_df[[\"Latitude\", \"Longitude\"]]\n",
    "locations_desserts = desserts_df[[\"Latitude\", \"Longitude\"]]\n",
    "locations_fast_food = fast_food_df[[\"Latitude\", \"Longitude\"]]\n",
    "locations_pub = pub_df[[\"Latitude\", \"Longitude\"]]\n",
    "locations_restaurants = restaurants_df[[\"Latitude\", \"Longitude\"]]"
   ]
  },
  {
   "cell_type": "code",
   "execution_count": 21,
   "metadata": {},
   "outputs": [
    {
     "data": {
      "text/html": [
       "<div>\n",
       "<style scoped>\n",
       "    .dataframe tbody tr th:only-of-type {\n",
       "        vertical-align: middle;\n",
       "    }\n",
       "\n",
       "    .dataframe tbody tr th {\n",
       "        vertical-align: top;\n",
       "    }\n",
       "\n",
       "    .dataframe thead th {\n",
       "        text-align: right;\n",
       "    }\n",
       "</style>\n",
       "<table border=\"1\" class=\"dataframe\">\n",
       "  <thead>\n",
       "    <tr style=\"text-align: right;\">\n",
       "      <th></th>\n",
       "      <th>Latitude</th>\n",
       "      <th>Longitude</th>\n",
       "    </tr>\n",
       "  </thead>\n",
       "  <tbody>\n",
       "    <tr>\n",
       "      <th>0</th>\n",
       "      <td>-37.813075</td>\n",
       "      <td>144.965281</td>\n",
       "    </tr>\n",
       "    <tr>\n",
       "      <th>2</th>\n",
       "      <td>-37.813398</td>\n",
       "      <td>144.964499</td>\n",
       "    </tr>\n",
       "    <tr>\n",
       "      <th>6</th>\n",
       "      <td>-37.813165</td>\n",
       "      <td>144.965886</td>\n",
       "    </tr>\n",
       "    <tr>\n",
       "      <th>12</th>\n",
       "      <td>-37.814117</td>\n",
       "      <td>144.965801</td>\n",
       "    </tr>\n",
       "    <tr>\n",
       "      <th>21</th>\n",
       "      <td>-37.814833</td>\n",
       "      <td>144.972896</td>\n",
       "    </tr>\n",
       "    <tr>\n",
       "      <th>25</th>\n",
       "      <td>-37.814372</td>\n",
       "      <td>144.973065</td>\n",
       "    </tr>\n",
       "    <tr>\n",
       "      <th>26</th>\n",
       "      <td>-37.814471</td>\n",
       "      <td>144.972929</td>\n",
       "    </tr>\n",
       "    <tr>\n",
       "      <th>29</th>\n",
       "      <td>-37.814337</td>\n",
       "      <td>144.972831</td>\n",
       "    </tr>\n",
       "    <tr>\n",
       "      <th>33</th>\n",
       "      <td>-37.814324</td>\n",
       "      <td>144.972700</td>\n",
       "    </tr>\n",
       "    <tr>\n",
       "      <th>47</th>\n",
       "      <td>-37.808025</td>\n",
       "      <td>144.960451</td>\n",
       "    </tr>\n",
       "    <tr>\n",
       "      <th>49</th>\n",
       "      <td>-37.808657</td>\n",
       "      <td>144.959543</td>\n",
       "    </tr>\n",
       "    <tr>\n",
       "      <th>53</th>\n",
       "      <td>-37.813442</td>\n",
       "      <td>144.966314</td>\n",
       "    </tr>\n",
       "    <tr>\n",
       "      <th>54</th>\n",
       "      <td>-37.813496</td>\n",
       "      <td>144.963958</td>\n",
       "    </tr>\n",
       "    <tr>\n",
       "      <th>60</th>\n",
       "      <td>-37.813196</td>\n",
       "      <td>144.966417</td>\n",
       "    </tr>\n",
       "    <tr>\n",
       "      <th>61</th>\n",
       "      <td>-37.814473</td>\n",
       "      <td>144.964668</td>\n",
       "    </tr>\n",
       "    <tr>\n",
       "      <th>62</th>\n",
       "      <td>-37.814278</td>\n",
       "      <td>144.966048</td>\n",
       "    </tr>\n",
       "    <tr>\n",
       "      <th>72</th>\n",
       "      <td>-37.816208</td>\n",
       "      <td>144.975952</td>\n",
       "    </tr>\n",
       "    <tr>\n",
       "      <th>73</th>\n",
       "      <td>-37.815959</td>\n",
       "      <td>144.972156</td>\n",
       "    </tr>\n",
       "    <tr>\n",
       "      <th>76</th>\n",
       "      <td>-37.815551</td>\n",
       "      <td>144.972006</td>\n",
       "    </tr>\n",
       "    <tr>\n",
       "      <th>78</th>\n",
       "      <td>-37.815987</td>\n",
       "      <td>144.972090</td>\n",
       "    </tr>\n",
       "    <tr>\n",
       "      <th>79</th>\n",
       "      <td>-37.814348</td>\n",
       "      <td>144.972287</td>\n",
       "    </tr>\n",
       "    <tr>\n",
       "      <th>81</th>\n",
       "      <td>-37.813592</td>\n",
       "      <td>144.973745</td>\n",
       "    </tr>\n",
       "    <tr>\n",
       "      <th>84</th>\n",
       "      <td>-37.815008</td>\n",
       "      <td>144.971758</td>\n",
       "    </tr>\n",
       "    <tr>\n",
       "      <th>93</th>\n",
       "      <td>-37.808850</td>\n",
       "      <td>144.959420</td>\n",
       "    </tr>\n",
       "    <tr>\n",
       "      <th>101</th>\n",
       "      <td>-37.809073</td>\n",
       "      <td>144.961767</td>\n",
       "    </tr>\n",
       "  </tbody>\n",
       "</table>\n",
       "</div>"
      ],
      "text/plain": [
       "      Latitude   Longitude\n",
       "0   -37.813075  144.965281\n",
       "2   -37.813398  144.964499\n",
       "6   -37.813165  144.965886\n",
       "12  -37.814117  144.965801\n",
       "21  -37.814833  144.972896\n",
       "25  -37.814372  144.973065\n",
       "26  -37.814471  144.972929\n",
       "29  -37.814337  144.972831\n",
       "33  -37.814324  144.972700\n",
       "47  -37.808025  144.960451\n",
       "49  -37.808657  144.959543\n",
       "53  -37.813442  144.966314\n",
       "54  -37.813496  144.963958\n",
       "60  -37.813196  144.966417\n",
       "61  -37.814473  144.964668\n",
       "62  -37.814278  144.966048\n",
       "72  -37.816208  144.975952\n",
       "73  -37.815959  144.972156\n",
       "76  -37.815551  144.972006\n",
       "78  -37.815987  144.972090\n",
       "79  -37.814348  144.972287\n",
       "81  -37.813592  144.973745\n",
       "84  -37.815008  144.971758\n",
       "93  -37.808850  144.959420\n",
       "101 -37.809073  144.961767"
      ]
     },
     "execution_count": 21,
     "metadata": {},
     "output_type": "execute_result"
    }
   ],
   "source": [
    "# test one of the dataframes to confirm success\n",
    "locations_cafe"
   ]
  },
  {
   "cell_type": "code",
   "execution_count": 22,
   "metadata": {},
   "outputs": [
    {
     "data": {
      "application/vnd.jupyter.widget-view+json": {
       "model_id": "6e3aa4375fce4ba3ae064d8c7505f35a",
       "version_major": 2,
       "version_minor": 0
      },
      "text/plain": [
       "Figure(layout=FigureLayout(height='420px'))"
      ]
     },
     "metadata": {},
     "output_type": "display_data"
    }
   ],
   "source": [
    "# Plot dayttime eateries on a Google Map\n",
    "\n",
    "# Assign the marker layer to a variable\n",
    "markers_0 = gmaps.symbol_layer(locations_bakery,fill_color='rgba(0, 150, 0, 0.4)', stroke_color='rgba(0, 150, 0, 0.4)')\n",
    "markers_1 = gmaps.symbol_layer(locations_beverages,fill_color='rgba(50, 150, 0, 0.4)', stroke_color='rgba(50, 150, 0, 0.4)')\n",
    "markers_2 = gmaps.symbol_layer(locations_cafe,fill_color='rgba(0, 100, 50, 0.4)', stroke_color='rgba(0, 100, 50, 0.4)')\n",
    "markers_3 = gmaps.symbol_layer(locations_fast_food,fill_color='rgba(90, 0, 40, 0.4)', stroke_color='rgba(90, 0, 40, 0.4)')\n",
    "\n",
    "# Plot Heatmap\n",
    "fig = gmaps.figure()\n",
    "\n",
    "# Add marker layer ontop of heat map\n",
    "fig.add_layer(markers_0)\n",
    "fig.add_layer(markers_1)\n",
    "fig.add_layer(markers_2)\n",
    "fig.add_layer(markers_3)\n",
    "\n",
    "# Display figure\n",
    "fig"
   ]
  },
  {
   "cell_type": "code",
   "execution_count": 23,
   "metadata": {},
   "outputs": [
    {
     "data": {
      "application/vnd.jupyter.widget-view+json": {
       "model_id": "c666701bf964417bbb5097d67cc652c2",
       "version_major": 2,
       "version_minor": 0
      },
      "text/plain": [
       "Figure(layout=FigureLayout(height='420px'))"
      ]
     },
     "metadata": {},
     "output_type": "display_data"
    }
   ],
   "source": [
    "# Plot nighttime eateries on a Google Map\n",
    "\n",
    "# Assign the marker layer to a variable\n",
    "markers_4 = gmaps.symbol_layer(locations_bar,fill_color='rgba(0, 150, 0, 0.4)', stroke_color='rgba(0, 150, 0, 0.4)')\n",
    "markers_5 = gmaps.symbol_layer(locations_desserts,fill_color='rgba(50, 150, 0, 0.4)', stroke_color='rgba(50, 150, 0, 0.4)')\n",
    "markers_6 = gmaps.symbol_layer(locations_pub,fill_color='rgba(0, 100, 50, 0.4)', stroke_color='rgba(0, 100, 50, 0.4)')\n",
    "markers_7 = gmaps.symbol_layer(locations_restaurants,fill_color='rgba(90, 0, 40, 0.4)', stroke_color='rgba(90, 0, 40, 0.4)')\n",
    "\n",
    "# Plot Heatmap\n",
    "fig = gmaps.figure()\n",
    "\n",
    "# Add marker layer ontop of heat map\n",
    "fig.add_layer(markers_4)\n",
    "fig.add_layer(markers_5)\n",
    "fig.add_layer(markers_6)\n",
    "fig.add_layer(markers_7)\n",
    "\n",
    "# Display figure\n",
    "fig"
   ]
  },
  {
   "cell_type": "code",
   "execution_count": 25,
   "metadata": {},
   "outputs": [
    {
     "data": {
      "text/html": [
       "<div>\n",
       "<style scoped>\n",
       "    .dataframe tbody tr th:only-of-type {\n",
       "        vertical-align: middle;\n",
       "    }\n",
       "\n",
       "    .dataframe tbody tr th {\n",
       "        vertical-align: top;\n",
       "    }\n",
       "\n",
       "    .dataframe thead th {\n",
       "        text-align: right;\n",
       "    }\n",
       "</style>\n",
       "<table border=\"1\" class=\"dataframe\">\n",
       "  <thead>\n",
       "    <tr style=\"text-align: right;\">\n",
       "      <th></th>\n",
       "      <th>Bourke Street Mall (North)</th>\n",
       "      <th>Flinders St-Spark La</th>\n",
       "      <th>QV Market-Elizabeth St (West)</th>\n",
       "    </tr>\n",
       "  </thead>\n",
       "  <tbody>\n",
       "    <tr>\n",
       "      <th>0</th>\n",
       "      <td>1119.375000</td>\n",
       "      <td>117.791667</td>\n",
       "      <td>363.500000</td>\n",
       "    </tr>\n",
       "    <tr>\n",
       "      <th>1</th>\n",
       "      <td>1504.125000</td>\n",
       "      <td>185.708333</td>\n",
       "      <td>586.250000</td>\n",
       "    </tr>\n",
       "    <tr>\n",
       "      <th>2</th>\n",
       "      <td>1458.750000</td>\n",
       "      <td>154.833333</td>\n",
       "      <td>551.000000</td>\n",
       "    </tr>\n",
       "    <tr>\n",
       "      <th>3</th>\n",
       "      <td>1283.727273</td>\n",
       "      <td>138.818182</td>\n",
       "      <td>512.181818</td>\n",
       "    </tr>\n",
       "    <tr>\n",
       "      <th>4</th>\n",
       "      <td>1384.791667</td>\n",
       "      <td>180.416667</td>\n",
       "      <td>588.875000</td>\n",
       "    </tr>\n",
       "    <tr>\n",
       "      <th>...</th>\n",
       "      <td>...</td>\n",
       "      <td>...</td>\n",
       "      <td>...</td>\n",
       "    </tr>\n",
       "    <tr>\n",
       "      <th>358</th>\n",
       "      <td>1438.166667</td>\n",
       "      <td>138.791667</td>\n",
       "      <td>577.958333</td>\n",
       "    </tr>\n",
       "    <tr>\n",
       "      <th>359</th>\n",
       "      <td>1133.666667</td>\n",
       "      <td>133.625000</td>\n",
       "      <td>383.375000</td>\n",
       "    </tr>\n",
       "    <tr>\n",
       "      <th>360</th>\n",
       "      <td>1304.083333</td>\n",
       "      <td>146.083333</td>\n",
       "      <td>583.583333</td>\n",
       "    </tr>\n",
       "    <tr>\n",
       "      <th>361</th>\n",
       "      <td>1299.125000</td>\n",
       "      <td>105.333333</td>\n",
       "      <td>633.041667</td>\n",
       "    </tr>\n",
       "    <tr>\n",
       "      <th>362</th>\n",
       "      <td>1303.541667</td>\n",
       "      <td>135.250000</td>\n",
       "      <td>367.500000</td>\n",
       "    </tr>\n",
       "  </tbody>\n",
       "</table>\n",
       "<p>363 rows × 3 columns</p>\n",
       "</div>"
      ],
      "text/plain": [
       "     Bourke Street Mall (North)  Flinders St-Spark La  \\\n",
       "0                   1119.375000            117.791667   \n",
       "1                   1504.125000            185.708333   \n",
       "2                   1458.750000            154.833333   \n",
       "3                   1283.727273            138.818182   \n",
       "4                   1384.791667            180.416667   \n",
       "..                          ...                   ...   \n",
       "358                 1438.166667            138.791667   \n",
       "359                 1133.666667            133.625000   \n",
       "360                 1304.083333            146.083333   \n",
       "361                 1299.125000            105.333333   \n",
       "362                 1303.541667            135.250000   \n",
       "\n",
       "     QV Market-Elizabeth St (West)  \n",
       "0                       363.500000  \n",
       "1                       586.250000  \n",
       "2                       551.000000  \n",
       "3                       512.181818  \n",
       "4                       588.875000  \n",
       "..                             ...  \n",
       "358                     577.958333  \n",
       "359                     383.375000  \n",
       "360                     583.583333  \n",
       "361                     633.041667  \n",
       "362                     367.500000  \n",
       "\n",
       "[363 rows x 3 columns]"
      ]
     },
     "execution_count": 25,
     "metadata": {},
     "output_type": "execute_result"
    }
   ],
   "source": [
    "# import pedestrian sensor data \n",
    "locations_df = pd.read_csv(\"../../Output/1_pedestrian_csv/sensors2019_chosen3_dailyaverage.csv\")\n",
    "locations_df"
   ]
  },
  {
   "cell_type": "code",
   "execution_count": 26,
   "metadata": {},
   "outputs": [],
   "source": [
    "# find average daily pedestrian count per location\n",
    "locations_df = locations_df.mean()"
   ]
  },
  {
   "cell_type": "code",
   "execution_count": 27,
   "metadata": {},
   "outputs": [],
   "source": [
    "# convert into dataframe for merging\n",
    "locations_df = pd.DataFrame(locations_df)\n",
    "locations_df = locations_df.rename(columns={0:'Daily Average'})"
   ]
  },
  {
   "cell_type": "code",
   "execution_count": 28,
   "metadata": {},
   "outputs": [],
   "source": [
    "# merge location data with day and night dataframes\n",
    "merged_day = pd.merge(sensors_day,locations_df,left_index=True, right_index=True, how=\"outer\")\n",
    "merged_night = pd.merge(sensors_night,locations_df,left_index=True, right_index=True, how=\"outer\")"
   ]
  },
  {
   "cell_type": "code",
   "execution_count": 29,
   "metadata": {},
   "outputs": [
    {
     "data": {
      "text/plain": [
       "(['Bakery', 'Beverages', 'Cafe', 'Fast Food'],\n",
       " ['Bar', 'Desserts', 'Pub', 'Restaurant'])"
      ]
     },
     "execution_count": 29,
     "metadata": {},
     "output_type": "execute_result"
    }
   ],
   "source": [
    "# list types for day and nighttime eateries\n",
    "day_types = list(sensors_day.columns)\n",
    "night_types = list(sensors_night.columns)\n",
    "day_types, night_types"
   ]
  },
  {
   "cell_type": "code",
   "execution_count": 30,
   "metadata": {},
   "outputs": [],
   "source": [
    "# define variables for scatter plot\n",
    "foot_traffic = locations_df[\"Daily Average\"]\n",
    "\n",
    "# define variables for ANOVA\n",
    "day_0 = merged_day[day_types[0]]\n",
    "day_1 = merged_day[day_types[1]]\n",
    "day_2 = merged_day[day_types[2]]\n",
    "day_3 = merged_day[day_types[3]]\n",
    "night_0 = merged_night[night_types[0]]\n",
    "night_1 = merged_night[night_types[1]]\n",
    "night_2 = merged_night[night_types[2]]\n",
    "night_3 = merged_night[night_types[3]]\n"
   ]
  },
  {
   "cell_type": "code",
   "execution_count": 31,
   "metadata": {},
   "outputs": [
    {
     "ename": "NameError",
     "evalue": "name 'foot_traffic_big' is not defined",
     "output_type": "error",
     "traceback": [
      "\u001b[0;31m---------------------------------------------------------------------------\u001b[0m",
      "\u001b[0;31mNameError\u001b[0m                                 Traceback (most recent call last)",
      "\u001b[0;32m<ipython-input-31-40263170d234>\u001b[0m in \u001b[0;36m<module>\u001b[0;34m\u001b[0m\n\u001b[1;32m      1\u001b[0m \u001b[0;31m# linear regression of price rating relative to location\u001b[0m\u001b[0;34m\u001b[0m\u001b[0;34m\u001b[0m\u001b[0;34m\u001b[0m\u001b[0m\n\u001b[0;32m----> 2\u001b[0;31m \u001b[0mprice_slope\u001b[0m\u001b[0;34m,\u001b[0m \u001b[0mprice_int\u001b[0m\u001b[0;34m,\u001b[0m \u001b[0mprice_r\u001b[0m\u001b[0;34m,\u001b[0m \u001b[0mprice_p\u001b[0m\u001b[0;34m,\u001b[0m \u001b[0mprice_std_err\u001b[0m \u001b[0;34m=\u001b[0m \u001b[0mstats\u001b[0m\u001b[0;34m.\u001b[0m\u001b[0mlinregress\u001b[0m\u001b[0;34m(\u001b[0m\u001b[0mfoot_traffic_big\u001b[0m\u001b[0;34m,\u001b[0m \u001b[0mprice_big\u001b[0m\u001b[0;34m)\u001b[0m\u001b[0;34m\u001b[0m\u001b[0;34m\u001b[0m\u001b[0m\n\u001b[0m\u001b[1;32m      3\u001b[0m \u001b[0mprice_fit\u001b[0m \u001b[0;34m=\u001b[0m \u001b[0mprice_slope\u001b[0m \u001b[0;34m*\u001b[0m \u001b[0mfoot_traffic_big\u001b[0m \u001b[0;34m+\u001b[0m \u001b[0mprice_int\u001b[0m\u001b[0;34m\u001b[0m\u001b[0;34m\u001b[0m\u001b[0m\n\u001b[1;32m      4\u001b[0m \u001b[0;34m\u001b[0m\u001b[0m\n\u001b[1;32m      5\u001b[0m \u001b[0;31m# scatter plot by price\u001b[0m\u001b[0;34m\u001b[0m\u001b[0;34m\u001b[0m\u001b[0;34m\u001b[0m\u001b[0m\n",
      "\u001b[0;31mNameError\u001b[0m: name 'foot_traffic_big' is not defined"
     ]
    }
   ],
   "source": [
    "# linear regression of price rating relative to location\n",
    "price_slope, price_int, price_r, price_p, price_std_err = stats.linregress(foot_traffic_big, price_big)\n",
    "price_fit = price_slope * foot_traffic_big + price_int\n",
    "\n",
    "# scatter plot by price\n",
    "plt.scatter(foot_traffic_big, price_big, marker=\"o\", facecolors=\"blue\", edgecolors=\"black\", alpha=0.1)\n",
    "plt.xlabel(\"Daily Average Pedestrian Count\")\n",
    "plt.ylabel(\"Averaged Price Rating\")\n",
    "plt.title(\"Aggregate Price Rating vs Average Daily Pedestrian Count in 2019\")\n",
    "plt.plot(foot_traffic_big,price_fit,\"--\")\n",
    "plt.savefig(\"../../Output/price_per_pedestrian.png\")\n",
    "plt.show()\n",
    "print(f\"r value = {price_r}\")\n",
    "print(f\"r squared = {price_r**2}\")"
   ]
  },
  {
   "cell_type": "code",
   "execution_count": 32,
   "metadata": {},
   "outputs": [
    {
     "name": "stdout",
     "output_type": "stream",
     "text": [
      "r-value for Bakery = 0.3767666778529607\n",
      "r-squared value for Bakery = 0.14195312954035666\n",
      "r-value for Beverages = 0.9683517046364798\n",
      "r-squared value for Beverages = 0.9377050238723762\n",
      "r-value for Cafe = -0.2405725600656459\n",
      "r-squared value for Cafe = 0.0578751566565388\n",
      "r-value for Fast Food = -0.7894436113708984\n",
      "r-squared value for Fast Food = 0.623221215534326\n"
     ]
    },
    {
     "data": {
      "image/png": "[encoded data removed]",
      "text/plain": [
       "<Figure size 720x576 with 1 Axes>"
      ]
     },
     "metadata": {
      "needs_background": "light"
     },
     "output_type": "display_data"
    }
   ],
   "source": [
    "count=1\n",
    "plt.subplots(figsize=(10, 8))\n",
    "for i in day_types:\n",
    "    # linear regression of price rating relative to location\n",
    "    i_slope, i_int, i_r, i_p, i_std_err = stats.linregress(foot_traffic, sensors_day[i])\n",
    "    i_fit = i_slope * foot_traffic + i_int\n",
    "    plt.scatter(foot_traffic,sensors_day[i],alpha=.5)\n",
    "    plt.legend(day_types)\n",
    "    plt.plot(foot_traffic,i_fit,\"--\")\n",
    "    print(f\"r-value for {day_types[(count-1)]} = {i_r}\")\n",
    "    print(f\"r-squared value for {day_types[(count-1)]} = {i_r**2}\")\n",
    "    count+=1\n",
    "plt.xlabel(\"Daily Average Pedestrians over 2019\")\n",
    "plt.ylabel(\"Number of Eateries\")\n",
    "plt.title(\"Number of Daytime Eateries by Type vs. Pedestrian Count\")\n",
    "plt.savefig(\"../../Output/type_scatter_day.png\")\n",
    "plt.show()"
   ]
  },
  {
   "cell_type": "code",
   "execution_count": 33,
   "metadata": {},
   "outputs": [
    {
     "name": "stdout",
     "output_type": "stream",
     "text": [
      "Given the p-value of 0.017368944461557442 is less than 0.05, we therefore may reject the null hypothesis.\n"
     ]
    }
   ],
   "source": [
    "# Perform the ANOVA\n",
    "day_s, day_p = stats.f_oneway(day_0,day_1,day_2,day_3)\n",
    "\n",
    "if day_p < 0.05:\n",
    "    print(f\"Given the p-value of {day_p} is less than 0.05, we therefore may reject the null hypothesis.\")\n",
    "else:\n",
    "    print(f\"Given the p-value of {day_p} is greater than 0.05, we therefore may retain the null hypothesis.\" )"
   ]
  },
  {
   "cell_type": "code",
   "execution_count": 34,
   "metadata": {},
   "outputs": [
    {
     "name": "stdout",
     "output_type": "stream",
     "text": [
      "r-value for Bar = -0.9905897667520948\n",
      "r-squared value for Bar = 0.9812680859939695\n",
      "r-value for Desserts = 0.0\n",
      "r-squared value for Desserts = 0.0\n",
      "r-value for Pub = -0.13686458273063476\n",
      "r-squared value for Pub = 0.018731914006030765\n",
      "r-value for Restaurant = -0.45357148819853915\n",
      "r-squared value for Restaurant = 0.20572709490663754\n"
     ]
    },
    {
     "data": {
      "image/png": "[encoded data removed]",
      "text/plain": [
       "<Figure size 720x576 with 1 Axes>"
      ]
     },
     "metadata": {
      "needs_background": "light"
     },
     "output_type": "display_data"
    }
   ],
   "source": [
    "count=1\n",
    "plt.subplots(figsize=(10, 8))\n",
    "for j in night_types:\n",
    "    # linear regression of price rating relative to location\n",
    "    j_slope, j_int, j_r, j_p, j_std_err = stats.linregress(foot_traffic, sensors_night[j])\n",
    "    j_fit = j_slope * foot_traffic + j_int\n",
    "    plt.scatter(foot_traffic,sensors_night[j],alpha=.5)\n",
    "    plt.legend(night_types)\n",
    "    plt.plot(foot_traffic,j_fit,\"--\")\n",
    "    print(f\"r-value for {night_types[(count-1)]} = {j_r}\")\n",
    "    print(f\"r-squared value for {night_types[(count-1)]} = {j_r**2}\")\n",
    "    count+=1\n",
    "plt.xlabel(\"Daily Average Pedestrians over 2019\")\n",
    "plt.ylabel(\"Number of Eateries\")\n",
    "plt.title(\"Number of Nighttime Eateries by Type vs. Pedestrian Count\")\n",
    "plt.savefig(\"../../Output/type_scatter_night.png\")\n",
    "plt.show()"
   ]
  },
  {
   "cell_type": "code",
   "execution_count": 35,
   "metadata": {},
   "outputs": [
    {
     "name": "stdout",
     "output_type": "stream",
     "text": [
      "Given the p-value of 3.695789016197013e-05 is less than 0.05, we therefore may reject the null hypothesis.\n"
     ]
    }
   ],
   "source": [
    "# Perform the ANOVA\n",
    "night_s, night_p = stats.f_oneway(night_0,night_1,night_2,night_3)\n",
    "\n",
    "if night_p < 0.05:\n",
    "    print(f\"Given the p-value of {night_p} is less than 0.05, we therefore may reject the null hypothesis.\")\n",
    "else:\n",
    "    print(f\"Given the p-value of {night_p} is greater than 0.05, we therefore may retain the null hypothesis.\" )"
   ]
  },
  {
   "cell_type": "code",
   "execution_count": null,
   "metadata": {},
   "outputs": [],
   "source": []
  }
 ],
 "metadata": {
  "kernelspec": {
   "display_name": "Python [conda env:PythonData] *",
   "language": "python",
   "name": "conda-env-PythonData-py"
  },
  "language_info": {
   "codemirror_mode": {
    "name": "ipython",
    "version": 3
   },
   "file_extension": ".py",
   "mimetype": "text/x-python",
   "name": "python",
   "nbconvert_exporter": "python",
   "pygments_lexer": "ipython3",
   "version": "3.6.10"
  }
 },
 "nbformat": 4,
 "nbformat_minor": 4
}
