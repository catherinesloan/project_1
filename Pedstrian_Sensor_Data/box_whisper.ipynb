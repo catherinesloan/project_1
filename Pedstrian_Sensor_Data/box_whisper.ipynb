{
 "cells": [
  {
   "cell_type": "code",
   "execution_count": 1,
   "metadata": {},
   "outputs": [],
   "source": [
    "import pandas as pd\n",
    "import matplotlib.pyplot as plt\n",
    "import numpy as np\n",
    "import json"
   ]
  },
  {
   "cell_type": "code",
   "execution_count": 2,
   "metadata": {},
   "outputs": [
    {
     "data": {
      "text/html": [
       "<div>\n",
       "<style scoped>\n",
       "    .dataframe tbody tr th:only-of-type {\n",
       "        vertical-align: middle;\n",
       "    }\n",
       "\n",
       "    .dataframe tbody tr th {\n",
       "        vertical-align: top;\n",
       "    }\n",
       "\n",
       "    .dataframe thead th {\n",
       "        text-align: right;\n",
       "    }\n",
       "</style>\n",
       "<table border=\"1\" class=\"dataframe\">\n",
       "  <thead>\n",
       "    <tr style=\"text-align: right;\">\n",
       "      <th></th>\n",
       "      <th>Name</th>\n",
       "      <th>Aggregate Rating</th>\n",
       "      <th>Type</th>\n",
       "      <th>Price</th>\n",
       "      <th>Latitude</th>\n",
       "      <th>Longitude</th>\n",
       "      <th>Sensor ID</th>\n",
       "      <th>Sensor</th>\n",
       "    </tr>\n",
       "  </thead>\n",
       "  <tbody>\n",
       "    <tr>\n",
       "      <th>0</th>\n",
       "      <td>Soul Cafe</td>\n",
       "      <td>3.0</td>\n",
       "      <td>Coffee and Tea, Cafe Food</td>\n",
       "      <td>3</td>\n",
       "      <td>-37.813075</td>\n",
       "      <td>144.965281</td>\n",
       "      <td>1</td>\n",
       "      <td>Bourke Street Mall (North)</td>\n",
       "    </tr>\n",
       "    <tr>\n",
       "      <th>1</th>\n",
       "      <td>Song Tea</td>\n",
       "      <td>3.5</td>\n",
       "      <td>Bubble Tea</td>\n",
       "      <td>1</td>\n",
       "      <td>-37.813810</td>\n",
       "      <td>144.965600</td>\n",
       "      <td>1</td>\n",
       "      <td>Bourke Street Mall (North)</td>\n",
       "    </tr>\n",
       "    <tr>\n",
       "      <th>2</th>\n",
       "      <td>Sensory Lab - Bourke Street</td>\n",
       "      <td>3.4</td>\n",
       "      <td>Coffee and Tea, Sandwich, Desserts</td>\n",
       "      <td>2</td>\n",
       "      <td>-37.813398</td>\n",
       "      <td>144.964499</td>\n",
       "      <td>1</td>\n",
       "      <td>Bourke Street Mall (North)</td>\n",
       "    </tr>\n",
       "    <tr>\n",
       "      <th>3</th>\n",
       "      <td>SamSam</td>\n",
       "      <td>4.0</td>\n",
       "      <td>Korean</td>\n",
       "      <td>3</td>\n",
       "      <td>-37.812885</td>\n",
       "      <td>144.965210</td>\n",
       "      <td>1</td>\n",
       "      <td>Bourke Street Mall (North)</td>\n",
       "    </tr>\n",
       "    <tr>\n",
       "      <th>4</th>\n",
       "      <td>Boost Juice</td>\n",
       "      <td>3.7</td>\n",
       "      <td>Juices, Beverages</td>\n",
       "      <td>1</td>\n",
       "      <td>-37.813798</td>\n",
       "      <td>144.965849</td>\n",
       "      <td>1</td>\n",
       "      <td>Bourke Street Mall (North)</td>\n",
       "    </tr>\n",
       "    <tr>\n",
       "      <th>...</th>\n",
       "      <td>...</td>\n",
       "      <td>...</td>\n",
       "      <td>...</td>\n",
       "      <td>...</td>\n",
       "      <td>...</td>\n",
       "      <td>...</td>\n",
       "      <td>...</td>\n",
       "      <td>...</td>\n",
       "    </tr>\n",
       "    <tr>\n",
       "      <th>106</th>\n",
       "      <td>The Borek Bakehouse</td>\n",
       "      <td>4.4</td>\n",
       "      <td>Bakery, Middle Eastern</td>\n",
       "      <td>1</td>\n",
       "      <td>-37.807711</td>\n",
       "      <td>144.960005</td>\n",
       "      <td>26</td>\n",
       "      <td>QV Market-Elizabeth St (West)</td>\n",
       "    </tr>\n",
       "    <tr>\n",
       "      <th>107</th>\n",
       "      <td>Chickcha</td>\n",
       "      <td>3.7</td>\n",
       "      <td>Coffee and Tea, Cafe Food</td>\n",
       "      <td>2</td>\n",
       "      <td>-37.809073</td>\n",
       "      <td>144.961767</td>\n",
       "      <td>26</td>\n",
       "      <td>QV Market-Elizabeth St (West)</td>\n",
       "    </tr>\n",
       "    <tr>\n",
       "      <th>108</th>\n",
       "      <td>Damiao Panda Fan 大妙火锅 · 川菜</td>\n",
       "      <td>3.0</td>\n",
       "      <td>Hot Pot, Sichuan, Chinese</td>\n",
       "      <td>3</td>\n",
       "      <td>-37.809614</td>\n",
       "      <td>144.961199</td>\n",
       "      <td>26</td>\n",
       "      <td>QV Market-Elizabeth St (West)</td>\n",
       "    </tr>\n",
       "    <tr>\n",
       "      <th>109</th>\n",
       "      <td>Mansae Korean BBQ &amp; Bar</td>\n",
       "      <td>4.5</td>\n",
       "      <td>Korean, Korean BBQ</td>\n",
       "      <td>4</td>\n",
       "      <td>-37.809563</td>\n",
       "      <td>144.959607</td>\n",
       "      <td>26</td>\n",
       "      <td>QV Market-Elizabeth St (West)</td>\n",
       "    </tr>\n",
       "    <tr>\n",
       "      <th>110</th>\n",
       "      <td>The Orient Hot Pot</td>\n",
       "      <td>3.8</td>\n",
       "      <td>Chinese, Hot Pot, Sichuan</td>\n",
       "      <td>4</td>\n",
       "      <td>-37.809021</td>\n",
       "      <td>144.961862</td>\n",
       "      <td>26</td>\n",
       "      <td>QV Market-Elizabeth St (West)</td>\n",
       "    </tr>\n",
       "  </tbody>\n",
       "</table>\n",
       "<p>111 rows × 8 columns</p>\n",
       "</div>"
      ],
      "text/plain": [
       "                            Name  Aggregate Rating  \\\n",
       "0                      Soul Cafe               3.0   \n",
       "1                       Song Tea               3.5   \n",
       "2    Sensory Lab - Bourke Street               3.4   \n",
       "3                         SamSam               4.0   \n",
       "4                    Boost Juice               3.7   \n",
       "..                           ...               ...   \n",
       "106          The Borek Bakehouse               4.4   \n",
       "107                     Chickcha               3.7   \n",
       "108   Damiao Panda Fan 大妙火锅 · 川菜               3.0   \n",
       "109      Mansae Korean BBQ & Bar               4.5   \n",
       "110           The Orient Hot Pot               3.8   \n",
       "\n",
       "                                   Type  Price   Latitude   Longitude  \\\n",
       "0             Coffee and Tea, Cafe Food      3 -37.813075  144.965281   \n",
       "1                            Bubble Tea      1 -37.813810  144.965600   \n",
       "2    Coffee and Tea, Sandwich, Desserts      2 -37.813398  144.964499   \n",
       "3                                Korean      3 -37.812885  144.965210   \n",
       "4                     Juices, Beverages      1 -37.813798  144.965849   \n",
       "..                                  ...    ...        ...         ...   \n",
       "106              Bakery, Middle Eastern      1 -37.807711  144.960005   \n",
       "107           Coffee and Tea, Cafe Food      2 -37.809073  144.961767   \n",
       "108           Hot Pot, Sichuan, Chinese      3 -37.809614  144.961199   \n",
       "109                  Korean, Korean BBQ      4 -37.809563  144.959607   \n",
       "110           Chinese, Hot Pot, Sichuan      4 -37.809021  144.961862   \n",
       "\n",
       "     Sensor ID                         Sensor  \n",
       "0            1     Bourke Street Mall (North)  \n",
       "1            1     Bourke Street Mall (North)  \n",
       "2            1     Bourke Street Mall (North)  \n",
       "3            1     Bourke Street Mall (North)  \n",
       "4            1     Bourke Street Mall (North)  \n",
       "..         ...                            ...  \n",
       "106         26  QV Market-Elizabeth St (West)  \n",
       "107         26  QV Market-Elizabeth St (West)  \n",
       "108         26  QV Market-Elizabeth St (West)  \n",
       "109         26  QV Market-Elizabeth St (West)  \n",
       "110         26  QV Market-Elizabeth St (West)  \n",
       "\n",
       "[111 rows x 8 columns]"
      ]
     },
     "execution_count": 2,
     "metadata": {},
     "output_type": "execute_result"
    }
   ],
   "source": [
    "# pulling the data from the csv file \n",
    "df = pd.read_csv(\"zomatowithsensor_csv\")\n",
    "df"
   ]
  },
  {
   "cell_type": "code",
   "execution_count": 3,
   "metadata": {},
   "outputs": [
    {
     "data": {
      "text/plain": [
       "Name                 object\n",
       "Aggregate Rating    float64\n",
       "Type                 object\n",
       "Price                 int64\n",
       "Latitude            float64\n",
       "Longitude           float64\n",
       "Sensor ID             int64\n",
       "Sensor               object\n",
       "dtype: object"
      ]
     },
     "execution_count": 3,
     "metadata": {},
     "output_type": "execute_result"
    }
   ],
   "source": [
    "df.dtypes"
   ]
  },
  {
   "cell_type": "code",
   "execution_count": 4,
   "metadata": {},
   "outputs": [
    {
     "data": {
      "text/plain": [
       "array(['Bourke Street Mall (North)', 'Flinders St-Spark La',\n",
       "       'QV Market-Elizabeth St (West)'], dtype=object)"
      ]
     },
     "execution_count": 4,
     "metadata": {},
     "output_type": "execute_result"
    }
   ],
   "source": [
    "df[\"Sensor\"].unique()"
   ]
  },
  {
   "cell_type": "code",
   "execution_count": 5,
   "metadata": {},
   "outputs": [],
   "source": [
    "# Put locations into a list for for loop \n",
    "locations = ['Bourke Street Mall (North)', 'Flinders St-Spark La', 'QV Market-Elizabeth St (West)']"
   ]
  },
  {
   "cell_type": "code",
   "execution_count": 6,
   "metadata": {},
   "outputs": [],
   "source": [
    "# Creating an empty list to store the ratings for each sensor\n",
    "ratings_data = []"
   ]
  },
  {
   "cell_type": "code",
   "execution_count": 7,
   "metadata": {},
   "outputs": [
    {
     "name": "stdout",
     "output_type": "stream",
     "text": [
      "For Bourke Street Mall (North), the interquartile range of the ratings is 0.7(mm3)\n",
      "For Bourke Street Mall (North) values below 1.95 could be outliers\n",
      "For Bourke Street Mall (North) values above 4.75 could be outliers\n",
      "For Flinders St-Spark La, the interquartile range of the ratings is 0.7(mm3)\n",
      "For Flinders St-Spark La values below 2.25 could be outliers\n",
      "For Flinders St-Spark La values above 5.05 could be outliers\n",
      "For QV Market-Elizabeth St (West), the interquartile range of the ratings is 0.7(mm3)\n",
      "For QV Market-Elizabeth St (West) values below 2.35 could be outliers\n",
      "For QV Market-Elizabeth St (West) values above 5.15 could be outliers\n"
     ]
    }
   ],
   "source": [
    "for location in locations:\n",
    "    \n",
    "    # Locing in on the 3 locations in list\n",
    "    sens_df = df.loc[df[\"Sensor\"] == location]\n",
    "\n",
    "    ratings = sens_df['Aggregate Rating']\n",
    "    ratings_data.append(ratings)\n",
    "    \n",
    "    #Calculating the IQR\n",
    "    # If the data is in a dataframe, we use pandas to give quartile calculations\n",
    "    quartiles = ratings.quantile([.25,.5,.75])\n",
    "    lowerq = quartiles[0.25]\n",
    "    upperq = quartiles[0.75]\n",
    "    iqr = upperq - lowerq\n",
    "    \n",
    "    # Determining outliers using upper and lower bounds\n",
    "    lower_bound = lowerq - (1.5*iqr)\n",
    "    upper_bound = upperq + (1.5*iqr)\n",
    "    \n",
    "    # Print findings\n",
    "    print(f\"For {location}, the interquartile range of the ratings is {iqr.round(2)}(mm3)\")\n",
    "    print(f\"For {location} values below {lower_bound.round(2)} could be outliers\")\n",
    "    print(f\"For {location} values above {upper_bound.round(2)} could be outliers\")"
   ]
  },
  {
   "cell_type": "code",
   "execution_count": 8,
   "metadata": {},
   "outputs": [
    {
     "data": {
      "image/png": "[encoded data removed]",
      "text/plain": [
       "<Figure size 432x288 with 1 Axes>"
      ]
     },
     "metadata": {
      "needs_background": "light"
     },
     "output_type": "display_data"
    }
   ],
   "source": [
    "# Giving potential outliers custom style or color \n",
    "red_diamond = dict(markerfacecolor='r', marker='D')\n",
    "\n",
    "fig1, ax1 = plt.subplots()\n",
    "ax1.set_title('Restaurant Ratings')\n",
    "ax1.set_ylabel('Rating out of 5')\n",
    "ax1.set_xlabel(locations)\n",
    "ax1.boxplot(ratings_data, flierprops = red_diamond)\n",
    "plt.savefig(\"../Output/ratings_boxandwhisper.png\")\n",
    "plt.show()"
   ]
  },
  {
   "cell_type": "code",
   "execution_count": null,
   "metadata": {},
   "outputs": [],
   "source": []
  },
  {
   "cell_type": "code",
   "execution_count": 9,
   "metadata": {},
   "outputs": [],
   "source": [
    "# Put sensors into a list for for loop \n",
    "locations = ['Bourke Street Mall (North)', 'Flinders St-Spark La','QV Market-Elizabeth St (West)']"
   ]
  },
  {
   "cell_type": "code",
   "execution_count": 10,
   "metadata": {},
   "outputs": [],
   "source": [
    "# Creating an empty list to store the prices for each sensor\n",
    "prices_data = []"
   ]
  },
  {
   "cell_type": "code",
   "execution_count": 11,
   "metadata": {},
   "outputs": [
    {
     "name": "stdout",
     "output_type": "stream",
     "text": [
      "For Bourke Street Mall (North), the interquartile range of the prices is 2.0(mm3)\n",
      "For Bourke Street Mall (North) values below -2.0 could be outliers\n",
      "For Bourke Street Mall (North) values above 6.0 could be outliers\n",
      "For Flinders St-Spark La, the interquartile range of the prices is 2.0(mm3)\n",
      "For Flinders St-Spark La values below -1.0 could be outliers\n",
      "For Flinders St-Spark La values above 7.0 could be outliers\n",
      "For QV Market-Elizabeth St (West), the interquartile range of the prices is 1.0(mm3)\n",
      "For QV Market-Elizabeth St (West) values below 0.5 could be outliers\n",
      "For QV Market-Elizabeth St (West) values above 4.5 could be outliers\n"
     ]
    }
   ],
   "source": [
    "for location in locations:\n",
    "    \n",
    "    # Locing in on the 3 locations in list\n",
    "    sens_df = df.loc[df[\"Sensor\"] == location]\n",
    "\n",
    "    prices = sens_df['Price']\n",
    "    prices_data.append(prices)\n",
    "    \n",
    "    #Calculating the IQR\n",
    "    # If the data is in a dataframe, we use pandas to give quartile calculations\n",
    "    quartiles = prices.quantile([.25,.5,.75])\n",
    "    lowerq = quartiles[0.25]\n",
    "    upperq = quartiles[0.75]\n",
    "    iqr = upperq - lowerq\n",
    "    \n",
    "    # Determining outliers using upper and lower bounds\n",
    "    lower_bound = lowerq - (1.5*iqr)\n",
    "    upper_bound = upperq + (1.5*iqr)\n",
    "    \n",
    "    # Print findings\n",
    "    print(f\"For {location}, the interquartile range of the prices is {iqr.round(2)}(mm3)\")\n",
    "    print(f\"For {location} values below {lower_bound.round(2)} could be outliers\")\n",
    "    print(f\"For {location} values above {upper_bound.round(2)} could be outliers\")"
   ]
  },
  {
   "cell_type": "code",
   "execution_count": 12,
   "metadata": {},
   "outputs": [
    {
     "data": {
      "image/png": "[encoded data removed]",
      "text/plain": [
       "<Figure size 432x288 with 1 Axes>"
      ]
     },
     "metadata": {
      "needs_background": "light"
     },
     "output_type": "display_data"
    }
   ],
   "source": [
    "# Giving potential outliers custom style or color \n",
    "red_diamond = dict(markerfacecolor='r', marker='D')\n",
    "\n",
    "fig1, ax1 = plt.subplots()\n",
    "ax1.set_title('Restaurant Prices')\n",
    "ax1.set_ylabel('Pricing out of 5')\n",
    "ax1.set_xlabel(locations)\n",
    "ax1.boxplot(prices_data, flierprops = red_diamond)\n",
    "plt.savefig(\"../Output/prices_boxandwhisper.png\")\n",
    "plt.show()\n"
   ]
  },
  {
   "cell_type": "code",
   "execution_count": null,
   "metadata": {},
   "outputs": [],
   "source": []
  },
  {
   "cell_type": "code",
   "execution_count": null,
   "metadata": {},
   "outputs": [],
   "source": []
  },
  {
   "cell_type": "code",
   "execution_count": null,
   "metadata": {},
   "outputs": [],
   "source": []
  }
 ],
 "metadata": {
  "kernelspec": {
   "display_name": "Python [conda env:PythonData] *",
   "language": "python",
   "name": "conda-env-PythonData-py"
  },
  "language_info": {
   "codemirror_mode": {
    "name": "ipython",
    "version": 3
   },
   "file_extension": ".py",
   "mimetype": "text/x-python",
   "name": "python",
   "nbconvert_exporter": "python",
   "pygments_lexer": "ipython3",
   "version": "3.6.10"
  }
 },
 "nbformat": 4,
 "nbformat_minor": 4
}
